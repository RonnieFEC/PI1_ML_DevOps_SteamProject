{
 "cells": [
  {
   "cell_type": "markdown",
   "metadata": {},
   "source": [
    " # Análisis Exploratorio de Datos **(EDA)**\n",
    " -------------"
   ]
  },
  {
   "cell_type": "markdown",
   "metadata": {},
   "source": [
    " # EDA del Dataset steam_gamesEDA de **\"users_items\"**\n",
    " -------------"
   ]
  },
  {
   "cell_type": "markdown",
   "metadata": {},
   "source": [
    "En este jupyter notebook se desarrolla la extracción, transformación y carga del conjunto del dataset `\"user_items\"`"
   ]
  },
  {
   "cell_type": "markdown",
   "metadata": {},
   "source": [
    "-------------\n",
    "### Tabla de contenido\n",
    "\n",
    "- 1.- Introducción\n",
    "- 2.- Importación de las librerías y funciones personalizadas para el ETL\n",
    "    - 2.1.- Librerías\n",
    "    - 2.2.- Funciones Personalizadas\n",
    "- 3.- Desarrollo del proceso de ETL\n",
    "    - 3.1.- Extracción de datos\n",
    "        - 3.1.1.- Carga de archivos \"user_reviews.json.gz\"\n",
    "    - 3.2.- Transformación de datos\n",
    "        - 3.2.1.- Aspectos generales del Dataframe\n",
    "        - 3.2.2.- Exploración y tratamiendo de datos vacíos\n",
    "        - 3.2.3.- Eliminación de datos duplicados\n",
    "        - 3.2.4.- Datos incorrectos o irrelevantes\n",
    "        - 3.2.5.- Datos categóricos\n",
    "    - 3.3.- Carga de Datos\n",
    "        - 3.3.1 Generación del archivo limpio\n",
    "-------------"
   ]
  },
  {
   "cell_type": "markdown",
   "metadata": {},
   "source": [
    "## **<span style=\"color: #d8572a;\">2.- Importación de las librerías y funciones personalizadas para el ETL</span>**"
   ]
  },
  {
   "cell_type": "markdown",
   "metadata": {},
   "source": [
    "### **<span style=\"color: #f7b538;\">**3.2.- Transformación de datos**</span>**"
   ]
  }
 ],
 "metadata": {
  "kernelspec": {
   "display_name": "Python 3",
   "language": "python",
   "name": "python3"
  },
  "language_info": {
   "codemirror_mode": {
    "name": "ipython",
    "version": 3
   },
   "file_extension": ".py",
   "mimetype": "text/x-python",
   "name": "python",
   "nbconvert_exporter": "python",
   "pygments_lexer": "ipython3",
   "version": "3.12.0"
  }
 },
 "nbformat": 4,
 "nbformat_minor": 2
}
