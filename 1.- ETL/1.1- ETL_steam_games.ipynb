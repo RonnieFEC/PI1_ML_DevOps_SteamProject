{
 "cells": [
  {
   "cell_type": "markdown",
   "metadata": {},
   "source": [
    " # ETL de **\"Steam_Games\"**\n",
    " -------------"
   ]
  },
  {
   "cell_type": "markdown",
   "metadata": {},
   "source": [
    "En este jupyter notebook se desarrolla la extracción, transformación y carga del conjunto del dataset `\"steam_games\"`"
   ]
  },
  {
   "cell_type": "markdown",
   "metadata": {},
   "source": [
    "-------------\n",
    "### Tabla de contenido\n",
    "\n",
    "- 1.- Introducción\n",
    "- 2.- Importación de las librerías y funciones personalizadas para el ETL\n",
    "    - 2.1.- Librerías\n",
    "    - 2.2.- Funciones Personalizadas\n",
    "- 3.- Desarrollo del proceso de ETL\n",
    "    - 3.1.- Extracción de datos\n",
    "        - 3.1.1.- Carga de archivos \"Steam_games.json.gz\"\n",
    "    - 3.2.- Transformación de datos\n",
    "        - 3.2.1.- Aspectos generales del Dataframe\n",
    "        - 3.2.2 Exploración y tratamiendo de datos vacíos\n",
    "        - 3.2.3 Eliminación de datos duplicados\n",
    "        - 3.2.4 Datos incorrectos o irrelevantes\n",
    "        - 3.2.5 Datos categóricos\n",
    "    - 3.3.- Carga de Datos\n",
    "        - 3.3.1 Generación del archivo limpio\n",
    "-------------"
   ]
  },
  {
   "cell_type": "markdown",
   "metadata": {},
   "source": [
    "## **<span style=\"color: #d8572a;\">1.- Introducción</span>**"
   ]
  },
  {
   "cell_type": "markdown",
   "metadata": {},
   "source": [
    "Este trabajo ETL tiene como objetivo procesar e integrar un conjunto de datos que contiene información sobre videojuegos de Steam. El conjunto de datos, titulado \"Steam Games\", consta de 120445 filas y 13 columnas, luego de un proceso de limpieza exhaustivo para eliminar filas con valores NaN. Los datos extraídos se transformarán y cargarán en un sistema de destino para su posterior análisis y utilización.\n",
    "\n",
    "El conjunto de datos \"Steam Games\" abarca diversos atributos relacionados con videojuegos, proporcionando información valiosa sobre el panorama de los juegos. Cada fila representa un juego único y las columnas capturan detalles esenciales como editor, géneros, título, fecha de lanzamiento, precio y desarrollador."
   ]
  },
  {
   "cell_type": "markdown",
   "metadata": {},
   "source": [
    "## **<span style=\"color: #d8572a;\">2.- Importación de las librerías y funciones personalizadas para el ETL</span>**"
   ]
  },
  {
   "cell_type": "markdown",
   "metadata": {},
   "source": [
    "### **<span style=\"color: #f7b538;\">2.1.- Librerías</span>**"
   ]
  },
  {
   "cell_type": "code",
   "execution_count": 1,
   "metadata": {},
   "outputs": [],
   "source": [
    "import pandas as pd\n",
    "import numpy as np"
   ]
  },
  {
   "cell_type": "markdown",
   "metadata": {},
   "source": [
    "### **<span style=\"color: #f7b538;\">2.2.- Funciones Personalizadas</span>**"
   ]
  },
  {
   "cell_type": "code",
   "execution_count": 1,
   "metadata": {},
   "outputs": [
    {
     "ename": "ModuleNotFoundError",
     "evalue": "No module named 'Func_personalizadas'",
     "output_type": "error",
     "traceback": [
      "\u001b[1;31m---------------------------------------------------------------------------\u001b[0m",
      "\u001b[1;31mModuleNotFoundError\u001b[0m                       Traceback (most recent call last)",
      "Cell \u001b[1;32mIn[1], line 2\u001b[0m\n\u001b[0;32m      1\u001b[0m \u001b[38;5;28;01mfrom\u001b[39;00m \u001b[38;5;21;01mdatetime\u001b[39;00m \u001b[38;5;28;01mimport\u001b[39;00m datetime\n\u001b[1;32m----> 2\u001b[0m \u001b[38;5;28;01mimport\u001b[39;00m \u001b[38;5;21;01mFunc_personalizadas\u001b[39;00m\u001b[38;5;21;01m.\u001b[39;00m\u001b[38;5;21;01mFPersonalizadas\u001b[39;00m \u001b[38;5;28;01mas\u001b[39;00m \u001b[38;5;21;01mFP\u001b[39;00m\n",
      "\u001b[1;31mModuleNotFoundError\u001b[0m: No module named 'Func_personalizadas'"
     ]
    }
   ],
   "source": [
    "from datetime import datetime\n",
    "import Func_personalizadas.FPersonalizadas as FP"
   ]
  },
  {
   "cell_type": "markdown",
   "metadata": {},
   "source": [
    "## **<span style=\"color: #d8572a;\">3.- Desarrollo del proceso de ETL</span>**"
   ]
  },
  {
   "cell_type": "markdown",
   "metadata": {},
   "source": [
    "### **<span style=\"color: #f7b538;\">3.1.- Extracción de datos</span>**"
   ]
  },
  {
   "cell_type": "markdown",
   "metadata": {},
   "source": [
    "#### 3.1.1.- Carga de archivos \"Steam_games.json.gz\""
   ]
  },
  {
   "cell_type": "code",
   "execution_count": 3,
   "metadata": {},
   "outputs": [],
   "source": [
    "ruta_archivo= r\"C:\\Users\\USUARIO\\OneDrive\\6.- Data Science\\1.- Experiencia Soy Henry Bootcamp\\Labs\\PI 1\\ML_DevOps_Steam_Project\\Datasets\\steam_games.json.gz\""
   ]
  },
  {
   "cell_type": "code",
   "execution_count": 4,
   "metadata": {},
   "outputs": [
    {
     "data": {
      "text/html": [
       "<div>\n",
       "<style scoped>\n",
       "    .dataframe tbody tr th:only-of-type {\n",
       "        vertical-align: middle;\n",
       "    }\n",
       "\n",
       "    .dataframe tbody tr th {\n",
       "        vertical-align: top;\n",
       "    }\n",
       "\n",
       "    .dataframe thead th {\n",
       "        text-align: right;\n",
       "    }\n",
       "</style>\n",
       "<table border=\"1\" class=\"dataframe\">\n",
       "  <thead>\n",
       "    <tr style=\"text-align: right;\">\n",
       "      <th></th>\n",
       "      <th>publisher</th>\n",
       "      <th>genres</th>\n",
       "      <th>app_name</th>\n",
       "      <th>title</th>\n",
       "      <th>url</th>\n",
       "      <th>release_date</th>\n",
       "      <th>tags</th>\n",
       "      <th>reviews_url</th>\n",
       "      <th>specs</th>\n",
       "      <th>price</th>\n",
       "      <th>early_access</th>\n",
       "      <th>id</th>\n",
       "      <th>developer</th>\n",
       "    </tr>\n",
       "  </thead>\n",
       "  <tbody>\n",
       "    <tr>\n",
       "      <th>0</th>\n",
       "      <td>NaN</td>\n",
       "      <td>NaN</td>\n",
       "      <td>NaN</td>\n",
       "      <td>NaN</td>\n",
       "      <td>NaN</td>\n",
       "      <td>NaN</td>\n",
       "      <td>NaN</td>\n",
       "      <td>NaN</td>\n",
       "      <td>NaN</td>\n",
       "      <td>NaN</td>\n",
       "      <td>NaN</td>\n",
       "      <td>NaN</td>\n",
       "      <td>NaN</td>\n",
       "    </tr>\n",
       "    <tr>\n",
       "      <th>1</th>\n",
       "      <td>NaN</td>\n",
       "      <td>NaN</td>\n",
       "      <td>NaN</td>\n",
       "      <td>NaN</td>\n",
       "      <td>NaN</td>\n",
       "      <td>NaN</td>\n",
       "      <td>NaN</td>\n",
       "      <td>NaN</td>\n",
       "      <td>NaN</td>\n",
       "      <td>NaN</td>\n",
       "      <td>NaN</td>\n",
       "      <td>NaN</td>\n",
       "      <td>NaN</td>\n",
       "    </tr>\n",
       "    <tr>\n",
       "      <th>2</th>\n",
       "      <td>NaN</td>\n",
       "      <td>NaN</td>\n",
       "      <td>NaN</td>\n",
       "      <td>NaN</td>\n",
       "      <td>NaN</td>\n",
       "      <td>NaN</td>\n",
       "      <td>NaN</td>\n",
       "      <td>NaN</td>\n",
       "      <td>NaN</td>\n",
       "      <td>NaN</td>\n",
       "      <td>NaN</td>\n",
       "      <td>NaN</td>\n",
       "      <td>NaN</td>\n",
       "    </tr>\n",
       "    <tr>\n",
       "      <th>3</th>\n",
       "      <td>NaN</td>\n",
       "      <td>NaN</td>\n",
       "      <td>NaN</td>\n",
       "      <td>NaN</td>\n",
       "      <td>NaN</td>\n",
       "      <td>NaN</td>\n",
       "      <td>NaN</td>\n",
       "      <td>NaN</td>\n",
       "      <td>NaN</td>\n",
       "      <td>NaN</td>\n",
       "      <td>NaN</td>\n",
       "      <td>NaN</td>\n",
       "      <td>NaN</td>\n",
       "    </tr>\n",
       "    <tr>\n",
       "      <th>4</th>\n",
       "      <td>NaN</td>\n",
       "      <td>NaN</td>\n",
       "      <td>NaN</td>\n",
       "      <td>NaN</td>\n",
       "      <td>NaN</td>\n",
       "      <td>NaN</td>\n",
       "      <td>NaN</td>\n",
       "      <td>NaN</td>\n",
       "      <td>NaN</td>\n",
       "      <td>NaN</td>\n",
       "      <td>NaN</td>\n",
       "      <td>NaN</td>\n",
       "      <td>NaN</td>\n",
       "    </tr>\n",
       "    <tr>\n",
       "      <th>...</th>\n",
       "      <td>...</td>\n",
       "      <td>...</td>\n",
       "      <td>...</td>\n",
       "      <td>...</td>\n",
       "      <td>...</td>\n",
       "      <td>...</td>\n",
       "      <td>...</td>\n",
       "      <td>...</td>\n",
       "      <td>...</td>\n",
       "      <td>...</td>\n",
       "      <td>...</td>\n",
       "      <td>...</td>\n",
       "      <td>...</td>\n",
       "    </tr>\n",
       "    <tr>\n",
       "      <th>120440</th>\n",
       "      <td>Ghost_RUS Games</td>\n",
       "      <td>[Casual, Indie, Simulation, Strategy]</td>\n",
       "      <td>Colony On Mars</td>\n",
       "      <td>Colony On Mars</td>\n",
       "      <td>http://store.steampowered.com/app/773640/Colon...</td>\n",
       "      <td>2018-01-04</td>\n",
       "      <td>[Strategy, Indie, Casual, Simulation]</td>\n",
       "      <td>http://steamcommunity.com/app/773640/reviews/?...</td>\n",
       "      <td>[Single-player, Steam Achievements]</td>\n",
       "      <td>1.99</td>\n",
       "      <td>False</td>\n",
       "      <td>773640</td>\n",
       "      <td>Nikita \"Ghost_RUS\"</td>\n",
       "    </tr>\n",
       "    <tr>\n",
       "      <th>120441</th>\n",
       "      <td>Sacada</td>\n",
       "      <td>[Casual, Indie, Strategy]</td>\n",
       "      <td>LOGistICAL: South Africa</td>\n",
       "      <td>LOGistICAL: South Africa</td>\n",
       "      <td>http://store.steampowered.com/app/733530/LOGis...</td>\n",
       "      <td>2018-01-04</td>\n",
       "      <td>[Strategy, Indie, Casual]</td>\n",
       "      <td>http://steamcommunity.com/app/733530/reviews/?...</td>\n",
       "      <td>[Single-player, Steam Achievements, Steam Clou...</td>\n",
       "      <td>4.99</td>\n",
       "      <td>False</td>\n",
       "      <td>733530</td>\n",
       "      <td>Sacada</td>\n",
       "    </tr>\n",
       "    <tr>\n",
       "      <th>120442</th>\n",
       "      <td>Laush Studio</td>\n",
       "      <td>[Indie, Racing, Simulation]</td>\n",
       "      <td>Russian Roads</td>\n",
       "      <td>Russian Roads</td>\n",
       "      <td>http://store.steampowered.com/app/610660/Russi...</td>\n",
       "      <td>2018-01-04</td>\n",
       "      <td>[Indie, Simulation, Racing]</td>\n",
       "      <td>http://steamcommunity.com/app/610660/reviews/?...</td>\n",
       "      <td>[Single-player, Steam Achievements, Steam Trad...</td>\n",
       "      <td>1.99</td>\n",
       "      <td>False</td>\n",
       "      <td>610660</td>\n",
       "      <td>Laush Dmitriy Sergeevich</td>\n",
       "    </tr>\n",
       "    <tr>\n",
       "      <th>120443</th>\n",
       "      <td>SIXNAILS</td>\n",
       "      <td>[Casual, Indie]</td>\n",
       "      <td>EXIT 2 - Directions</td>\n",
       "      <td>EXIT 2 - Directions</td>\n",
       "      <td>http://store.steampowered.com/app/658870/EXIT_...</td>\n",
       "      <td>2017-09-02</td>\n",
       "      <td>[Indie, Casual, Puzzle, Singleplayer, Atmosphe...</td>\n",
       "      <td>http://steamcommunity.com/app/658870/reviews/?...</td>\n",
       "      <td>[Single-player, Steam Achievements, Steam Cloud]</td>\n",
       "      <td>4.99</td>\n",
       "      <td>False</td>\n",
       "      <td>658870</td>\n",
       "      <td>xropi,stev3ns</td>\n",
       "    </tr>\n",
       "    <tr>\n",
       "      <th>120444</th>\n",
       "      <td>NaN</td>\n",
       "      <td>NaN</td>\n",
       "      <td>Maze Run VR</td>\n",
       "      <td>NaN</td>\n",
       "      <td>http://store.steampowered.com/app/681550/Maze_...</td>\n",
       "      <td>NaN</td>\n",
       "      <td>[Early Access, Adventure, Indie, Action, Simul...</td>\n",
       "      <td>http://steamcommunity.com/app/681550/reviews/?...</td>\n",
       "      <td>[Single-player, Stats, Steam Leaderboards, HTC...</td>\n",
       "      <td>4.99</td>\n",
       "      <td>True</td>\n",
       "      <td>681550</td>\n",
       "      <td>NaN</td>\n",
       "    </tr>\n",
       "  </tbody>\n",
       "</table>\n",
       "<p>120445 rows × 13 columns</p>\n",
       "</div>"
      ],
      "text/plain": [
       "              publisher                                 genres  \\\n",
       "0                   NaN                                    NaN   \n",
       "1                   NaN                                    NaN   \n",
       "2                   NaN                                    NaN   \n",
       "3                   NaN                                    NaN   \n",
       "4                   NaN                                    NaN   \n",
       "...                 ...                                    ...   \n",
       "120440  Ghost_RUS Games  [Casual, Indie, Simulation, Strategy]   \n",
       "120441           Sacada              [Casual, Indie, Strategy]   \n",
       "120442     Laush Studio            [Indie, Racing, Simulation]   \n",
       "120443         SIXNAILS                        [Casual, Indie]   \n",
       "120444              NaN                                    NaN   \n",
       "\n",
       "                        app_name                     title  \\\n",
       "0                            NaN                       NaN   \n",
       "1                            NaN                       NaN   \n",
       "2                            NaN                       NaN   \n",
       "3                            NaN                       NaN   \n",
       "4                            NaN                       NaN   \n",
       "...                          ...                       ...   \n",
       "120440            Colony On Mars            Colony On Mars   \n",
       "120441  LOGistICAL: South Africa  LOGistICAL: South Africa   \n",
       "120442             Russian Roads             Russian Roads   \n",
       "120443       EXIT 2 - Directions       EXIT 2 - Directions   \n",
       "120444               Maze Run VR                       NaN   \n",
       "\n",
       "                                                      url release_date  \\\n",
       "0                                                     NaN          NaN   \n",
       "1                                                     NaN          NaN   \n",
       "2                                                     NaN          NaN   \n",
       "3                                                     NaN          NaN   \n",
       "4                                                     NaN          NaN   \n",
       "...                                                   ...          ...   \n",
       "120440  http://store.steampowered.com/app/773640/Colon...   2018-01-04   \n",
       "120441  http://store.steampowered.com/app/733530/LOGis...   2018-01-04   \n",
       "120442  http://store.steampowered.com/app/610660/Russi...   2018-01-04   \n",
       "120443  http://store.steampowered.com/app/658870/EXIT_...   2017-09-02   \n",
       "120444  http://store.steampowered.com/app/681550/Maze_...          NaN   \n",
       "\n",
       "                                                     tags  \\\n",
       "0                                                     NaN   \n",
       "1                                                     NaN   \n",
       "2                                                     NaN   \n",
       "3                                                     NaN   \n",
       "4                                                     NaN   \n",
       "...                                                   ...   \n",
       "120440              [Strategy, Indie, Casual, Simulation]   \n",
       "120441                          [Strategy, Indie, Casual]   \n",
       "120442                        [Indie, Simulation, Racing]   \n",
       "120443  [Indie, Casual, Puzzle, Singleplayer, Atmosphe...   \n",
       "120444  [Early Access, Adventure, Indie, Action, Simul...   \n",
       "\n",
       "                                              reviews_url  \\\n",
       "0                                                     NaN   \n",
       "1                                                     NaN   \n",
       "2                                                     NaN   \n",
       "3                                                     NaN   \n",
       "4                                                     NaN   \n",
       "...                                                   ...   \n",
       "120440  http://steamcommunity.com/app/773640/reviews/?...   \n",
       "120441  http://steamcommunity.com/app/733530/reviews/?...   \n",
       "120442  http://steamcommunity.com/app/610660/reviews/?...   \n",
       "120443  http://steamcommunity.com/app/658870/reviews/?...   \n",
       "120444  http://steamcommunity.com/app/681550/reviews/?...   \n",
       "\n",
       "                                                    specs price early_access  \\\n",
       "0                                                     NaN   NaN          NaN   \n",
       "1                                                     NaN   NaN          NaN   \n",
       "2                                                     NaN   NaN          NaN   \n",
       "3                                                     NaN   NaN          NaN   \n",
       "4                                                     NaN   NaN          NaN   \n",
       "...                                                   ...   ...          ...   \n",
       "120440                [Single-player, Steam Achievements]  1.99        False   \n",
       "120441  [Single-player, Steam Achievements, Steam Clou...  4.99        False   \n",
       "120442  [Single-player, Steam Achievements, Steam Trad...  1.99        False   \n",
       "120443   [Single-player, Steam Achievements, Steam Cloud]  4.99        False   \n",
       "120444  [Single-player, Stats, Steam Leaderboards, HTC...  4.99         True   \n",
       "\n",
       "            id                 developer  \n",
       "0          NaN                       NaN  \n",
       "1          NaN                       NaN  \n",
       "2          NaN                       NaN  \n",
       "3          NaN                       NaN  \n",
       "4          NaN                       NaN  \n",
       "...        ...                       ...  \n",
       "120440  773640        Nikita \"Ghost_RUS\"  \n",
       "120441  733530                    Sacada  \n",
       "120442  610660  Laush Dmitriy Sergeevich  \n",
       "120443  658870             xropi,stev3ns  \n",
       "120444  681550                       NaN  \n",
       "\n",
       "[120445 rows x 13 columns]"
      ]
     },
     "execution_count": 4,
     "metadata": {},
     "output_type": "execute_result"
    }
   ],
   "source": [
    "df_steam_games = FP.open_json_path_basic(ruta_archivo)\n",
    "df_steam_games"
   ]
  },
  {
   "cell_type": "markdown",
   "metadata": {},
   "source": [
    "### **<span style=\"color: #f7b538;\">**3.2.- Transformación de datos**</span>**"
   ]
  },
  {
   "cell_type": "markdown",
   "metadata": {},
   "source": [
    "#### 3.2.1.- Aspectos generales del Dataframe"
   ]
  },
  {
   "cell_type": "code",
   "execution_count": 5,
   "metadata": {},
   "outputs": [
    {
     "data": {
      "text/plain": [
       "(120445, 13)"
      ]
     },
     "execution_count": 5,
     "metadata": {},
     "output_type": "execute_result"
    }
   ],
   "source": [
    "# Dimensiones del dataframe\n",
    "df_steam_games.shape"
   ]
  },
  {
   "cell_type": "code",
   "execution_count": 6,
   "metadata": {},
   "outputs": [
    {
     "data": {
      "text/plain": [
       "Index(['publisher', 'genres', 'app_name', 'title', 'url', 'release_date',\n",
       "       'tags', 'reviews_url', 'specs', 'price', 'early_access', 'id',\n",
       "       'developer'],\n",
       "      dtype='object')"
      ]
     },
     "execution_count": 6,
     "metadata": {},
     "output_type": "execute_result"
    }
   ],
   "source": [
    "df_steam_games.columns"
   ]
  },
  {
   "cell_type": "code",
   "execution_count": 7,
   "metadata": {},
   "outputs": [
    {
     "name": "stdout",
     "output_type": "stream",
     "text": [
      "<class 'pandas.core.frame.DataFrame'>\n",
      "RangeIndex: 120445 entries, 0 to 120444\n",
      "Data columns (total 13 columns):\n",
      " #   Column        Non-Null Count  Dtype \n",
      "---  ------        --------------  ----- \n",
      " 0   publisher     24083 non-null  object\n",
      " 1   genres        28852 non-null  object\n",
      " 2   app_name      32133 non-null  object\n",
      " 3   title         30085 non-null  object\n",
      " 4   url           32135 non-null  object\n",
      " 5   release_date  30068 non-null  object\n",
      " 6   tags          31972 non-null  object\n",
      " 7   reviews_url   32133 non-null  object\n",
      " 8   specs         31465 non-null  object\n",
      " 9   price         30758 non-null  object\n",
      " 10  early_access  32135 non-null  object\n",
      " 11  id            32133 non-null  object\n",
      " 12  developer     28836 non-null  object\n",
      "dtypes: object(13)\n",
      "memory usage: 11.9+ MB\n"
     ]
    }
   ],
   "source": [
    "df_steam_games.info()"
   ]
  },
  {
   "cell_type": "code",
   "execution_count": 8,
   "metadata": {},
   "outputs": [
    {
     "data": {
      "text/plain": [
       "id\n",
       "612880    2\n",
       "761140    1\n",
       "530200    1\n",
       "518690    1\n",
       "513460    1\n",
       "         ..\n",
       "676060    1\n",
       "494160    1\n",
       "215280    1\n",
       "667090    1\n",
       "681550    1\n",
       "Name: count, Length: 32132, dtype: int64"
      ]
     },
     "execution_count": 8,
     "metadata": {},
     "output_type": "execute_result"
    }
   ],
   "source": [
    "df_steam_games.id.value_counts()"
   ]
  },
  {
   "cell_type": "markdown",
   "metadata": {},
   "source": [
    "### 3.2.2 Exploración y tratamiendo de datos vacíos"
   ]
  },
  {
   "cell_type": "markdown",
   "metadata": {},
   "source": [
    "Eliminamos todas las filas que contengan datos vacíos en todos los campos"
   ]
  },
  {
   "cell_type": "code",
   "execution_count": 9,
   "metadata": {},
   "outputs": [
    {
     "data": {
      "text/plain": [
       "(32135, 13)"
      ]
     },
     "execution_count": 9,
     "metadata": {},
     "output_type": "execute_result"
    }
   ],
   "source": [
    "## Eliminamos las filas vacías\n",
    "df_steam_games = df_steam_games.dropna(how='all').reset_index(drop=True)\n",
    "## Evaluamos dimensiones\n",
    "df_steam_games.shape"
   ]
  },
  {
   "cell_type": "markdown",
   "metadata": {},
   "source": [
    "Revisamos los tipos de datos y los nulos por cada columna"
   ]
  },
  {
   "cell_type": "code",
   "execution_count": 10,
   "metadata": {},
   "outputs": [
    {
     "data": {
      "text/html": [
       "<div>\n",
       "<style scoped>\n",
       "    .dataframe tbody tr th:only-of-type {\n",
       "        vertical-align: middle;\n",
       "    }\n",
       "\n",
       "    .dataframe tbody tr th {\n",
       "        vertical-align: top;\n",
       "    }\n",
       "\n",
       "    .dataframe thead th {\n",
       "        text-align: right;\n",
       "    }\n",
       "</style>\n",
       "<table border=\"1\" class=\"dataframe\">\n",
       "  <thead>\n",
       "    <tr style=\"text-align: right;\">\n",
       "      <th></th>\n",
       "      <th>nombre_campo</th>\n",
       "      <th>tipo_datos</th>\n",
       "      <th>no_nulos_%</th>\n",
       "      <th>nulos_%</th>\n",
       "      <th>nulos</th>\n",
       "    </tr>\n",
       "  </thead>\n",
       "  <tbody>\n",
       "    <tr>\n",
       "      <th>0</th>\n",
       "      <td>publisher</td>\n",
       "      <td>[&lt;class 'str'&gt;, &lt;class 'float'&gt;]</td>\n",
       "      <td>74.94</td>\n",
       "      <td>25.06</td>\n",
       "      <td>8052</td>\n",
       "    </tr>\n",
       "    <tr>\n",
       "      <th>1</th>\n",
       "      <td>genres</td>\n",
       "      <td>[&lt;class 'list'&gt;, &lt;class 'float'&gt;]</td>\n",
       "      <td>89.78</td>\n",
       "      <td>10.22</td>\n",
       "      <td>3283</td>\n",
       "    </tr>\n",
       "    <tr>\n",
       "      <th>2</th>\n",
       "      <td>app_name</td>\n",
       "      <td>[&lt;class 'str'&gt;, &lt;class 'float'&gt;]</td>\n",
       "      <td>99.99</td>\n",
       "      <td>0.01</td>\n",
       "      <td>2</td>\n",
       "    </tr>\n",
       "    <tr>\n",
       "      <th>3</th>\n",
       "      <td>title</td>\n",
       "      <td>[&lt;class 'str'&gt;, &lt;class 'float'&gt;]</td>\n",
       "      <td>93.62</td>\n",
       "      <td>6.38</td>\n",
       "      <td>2050</td>\n",
       "    </tr>\n",
       "    <tr>\n",
       "      <th>4</th>\n",
       "      <td>url</td>\n",
       "      <td>[&lt;class 'str'&gt;]</td>\n",
       "      <td>100.00</td>\n",
       "      <td>0.00</td>\n",
       "      <td>0</td>\n",
       "    </tr>\n",
       "    <tr>\n",
       "      <th>5</th>\n",
       "      <td>release_date</td>\n",
       "      <td>[&lt;class 'str'&gt;, &lt;class 'float'&gt;]</td>\n",
       "      <td>93.57</td>\n",
       "      <td>6.43</td>\n",
       "      <td>2067</td>\n",
       "    </tr>\n",
       "    <tr>\n",
       "      <th>6</th>\n",
       "      <td>tags</td>\n",
       "      <td>[&lt;class 'list'&gt;, &lt;class 'float'&gt;]</td>\n",
       "      <td>99.49</td>\n",
       "      <td>0.51</td>\n",
       "      <td>163</td>\n",
       "    </tr>\n",
       "    <tr>\n",
       "      <th>7</th>\n",
       "      <td>reviews_url</td>\n",
       "      <td>[&lt;class 'str'&gt;, &lt;class 'float'&gt;]</td>\n",
       "      <td>99.99</td>\n",
       "      <td>0.01</td>\n",
       "      <td>2</td>\n",
       "    </tr>\n",
       "    <tr>\n",
       "      <th>8</th>\n",
       "      <td>specs</td>\n",
       "      <td>[&lt;class 'list'&gt;, &lt;class 'float'&gt;]</td>\n",
       "      <td>97.92</td>\n",
       "      <td>2.08</td>\n",
       "      <td>670</td>\n",
       "    </tr>\n",
       "    <tr>\n",
       "      <th>9</th>\n",
       "      <td>price</td>\n",
       "      <td>[&lt;class 'float'&gt;, &lt;class 'str'&gt;]</td>\n",
       "      <td>95.71</td>\n",
       "      <td>4.29</td>\n",
       "      <td>1377</td>\n",
       "    </tr>\n",
       "    <tr>\n",
       "      <th>10</th>\n",
       "      <td>early_access</td>\n",
       "      <td>[&lt;class 'bool'&gt;]</td>\n",
       "      <td>100.00</td>\n",
       "      <td>0.00</td>\n",
       "      <td>0</td>\n",
       "    </tr>\n",
       "    <tr>\n",
       "      <th>11</th>\n",
       "      <td>id</td>\n",
       "      <td>[&lt;class 'str'&gt;, &lt;class 'float'&gt;]</td>\n",
       "      <td>99.99</td>\n",
       "      <td>0.01</td>\n",
       "      <td>2</td>\n",
       "    </tr>\n",
       "    <tr>\n",
       "      <th>12</th>\n",
       "      <td>developer</td>\n",
       "      <td>[&lt;class 'str'&gt;, &lt;class 'float'&gt;]</td>\n",
       "      <td>89.73</td>\n",
       "      <td>10.27</td>\n",
       "      <td>3299</td>\n",
       "    </tr>\n",
       "  </tbody>\n",
       "</table>\n",
       "</div>"
      ],
      "text/plain": [
       "    nombre_campo                         tipo_datos  no_nulos_%  nulos_%  \\\n",
       "0      publisher   [<class 'str'>, <class 'float'>]       74.94    25.06   \n",
       "1         genres  [<class 'list'>, <class 'float'>]       89.78    10.22   \n",
       "2       app_name   [<class 'str'>, <class 'float'>]       99.99     0.01   \n",
       "3          title   [<class 'str'>, <class 'float'>]       93.62     6.38   \n",
       "4            url                    [<class 'str'>]      100.00     0.00   \n",
       "5   release_date   [<class 'str'>, <class 'float'>]       93.57     6.43   \n",
       "6           tags  [<class 'list'>, <class 'float'>]       99.49     0.51   \n",
       "7    reviews_url   [<class 'str'>, <class 'float'>]       99.99     0.01   \n",
       "8          specs  [<class 'list'>, <class 'float'>]       97.92     2.08   \n",
       "9          price   [<class 'float'>, <class 'str'>]       95.71     4.29   \n",
       "10  early_access                   [<class 'bool'>]      100.00     0.00   \n",
       "11            id   [<class 'str'>, <class 'float'>]       99.99     0.01   \n",
       "12     developer   [<class 'str'>, <class 'float'>]       89.73    10.27   \n",
       "\n",
       "    nulos  \n",
       "0    8052  \n",
       "1    3283  \n",
       "2       2  \n",
       "3    2050  \n",
       "4       0  \n",
       "5    2067  \n",
       "6     163  \n",
       "7       2  \n",
       "8     670  \n",
       "9    1377  \n",
       "10      0  \n",
       "11      2  \n",
       "12   3299  "
      ]
     },
     "execution_count": 10,
     "metadata": {},
     "output_type": "execute_result"
    }
   ],
   "source": [
    "FP.tabla_tipo_datos(df_steam_games)"
   ]
  },
  {
   "cell_type": "markdown",
   "metadata": {},
   "source": [
    "Revisamos a detalles las columnas que tienen estructura tipo lista, para entender su estructura"
   ]
  },
  {
   "cell_type": "code",
   "execution_count": 11,
   "metadata": {},
   "outputs": [],
   "source": [
    "col_tipo_list = FP.identificar_columnas_con_listas(df_steam_games)"
   ]
  },
  {
   "cell_type": "code",
   "execution_count": 12,
   "metadata": {},
   "outputs": [
    {
     "name": "stdout",
     "output_type": "stream",
     "text": [
      "Columna genres \n",
      " Tipo de Dato:  ['Action', 'Adventure', 'Simulation']\n",
      "Columna tags \n",
      " Tipo de Dato:  ['Action', 'Adventure', 'Simulation', 'FPS', 'Shooter', 'Third-Person Shooter', 'Sniper', 'Third Person']\n",
      "Columna specs \n",
      " Tipo de Dato:  ['Single-player', 'Steam Achievements']\n"
     ]
    }
   ],
   "source": [
    "for col in col_tipo_list:    \n",
    "    print(f\"Columna {col} \\n Tipo de Dato: \",df_steam_games[col][5])"
   ]
  },
  {
   "cell_type": "markdown",
   "metadata": {},
   "source": [
    "Revisamos columnas con formato tipo str y float a la vez"
   ]
  },
  {
   "cell_type": "code",
   "execution_count": 13,
   "metadata": {},
   "outputs": [
    {
     "data": {
      "text/plain": [
       "array([4.99, 'Free To Play', 'Free to Play', 0.99, 2.99, 3.99, 9.99,\n",
       "       18.99, 29.99, nan, 'Free', 10.99, 1.59, 14.99, 1.99, 59.99, 8.99,\n",
       "       6.99, 7.99, 39.99, 19.99, 7.49, 12.99, 5.99, 2.49, 15.99, 1.25,\n",
       "       24.99, 17.99, 61.99, 3.49, 11.99, 13.99, 'Free Demo',\n",
       "       'Play for Free!', 34.99, 74.76, 1.49, 32.99, 99.99, 14.95, 69.99,\n",
       "       16.99, 79.99, 49.99, 5.0, 44.99, 13.98, 29.96, 119.99, 109.99,\n",
       "       149.99, 771.71, 'Install Now', 21.99, 89.99,\n",
       "       'Play WARMACHINE: Tactics Demo', 0.98, 139.92, 4.29, 64.99,\n",
       "       'Free Mod', 54.99, 74.99, 'Install Theme', 0.89, 'Third-party',\n",
       "       0.5, 'Play Now', 299.99, 1.29, 3.0, 15.0, 5.49, 23.99, 49.0, 20.99,\n",
       "       10.93, 1.39, 'Free HITMAN™ Holiday Pack', 36.99, 4.49, 2.0, 4.0,\n",
       "       9.0, 234.99, 1.95, 1.5, 199.0, 189.0, 6.66, 27.99, 10.49, 129.99,\n",
       "       179.0, 26.99, 399.99, 31.99, 399.0, 20.0, 40.0, 3.33, 199.99,\n",
       "       22.99, 320.0, 38.85, 71.7, 59.95, 995.0, 27.49, 3.39, 6.0, 19.95,\n",
       "       499.99, 16.06, 4.68, 131.4, 44.98, 202.76, 1.0, 2.3, 0.95, 172.24,\n",
       "       249.99, 2.97, 10.96, 10.0, 30.0, 2.66, 6.48, 19.29, 11.15, 18.9,\n",
       "       2.89, 'Play the Demo', 99.0, 87.94, 599.0, 8.98, 9.69, 0.49, 9.98,\n",
       "       9.95, 7.0, 'Starting at $499.00', 'Starting at $449.00', 12.89,\n",
       "       6.49, 1.87, 42.99, 41.99, 289.99, 'Free to Try', 23.96, 5.65, 12.0,\n",
       "       13.37, 189.96, 124.99, 'Free Movie', 19.98, 160.91, 'Free to Use'],\n",
       "      dtype=object)"
      ]
     },
     "execution_count": 13,
     "metadata": {},
     "output_type": "execute_result"
    }
   ],
   "source": [
    "# se observa el tipo de dato en 'price'\n",
    "df_steam_games['price'].unique()"
   ]
  },
  {
   "cell_type": "markdown",
   "metadata": {},
   "source": [
    "Revisamos las columnas de tipo booleano"
   ]
  },
  {
   "cell_type": "code",
   "execution_count": 14,
   "metadata": {},
   "outputs": [
    {
     "data": {
      "text/plain": [
       "array([False, True], dtype=object)"
      ]
     },
     "execution_count": 14,
     "metadata": {},
     "output_type": "execute_result"
    }
   ],
   "source": [
    "# se observa el tipo de dato en 'early_access'\n",
    "df_steam_games['early_access'].unique()"
   ]
  },
  {
   "cell_type": "markdown",
   "metadata": {},
   "source": [
    "### Alcance preliminar del diccionario de datos de \"Steam Games\"\n",
    "\n",
    "**Descripción:**\n",
    "\n",
    "Este conjunto de datos contiene información sobre videojuegos. Tras la limpieza de filas con valores NaN, el conjunto final consta de 32135 filas y 13 columnas. A continuación, se detalla la descripción de cada columna:\n",
    "\n",
    "**Columnas:**\n",
    "\n",
    "* **publisher**: Identifica la empresa publicadora del juego.\n",
    "* **genres**: Indica los géneros del juego, representados como una lista de uno o más géneros por registro.\n",
    "* **app_name**: Nombre del juego.\n",
    "* **title**: Título del juego.\n",
    "* **url**: Enlace web del juego.\n",
    "* **release_date**: Fecha de lanzamiento del juego en formato YYYY-MM-DD.\n",
    "* **tags**: Etiquetas asociadas al juego, representadas como una lista de una o más etiquetas por registro.\n",
    "* **reviews_url**: Enlace web donde se encuentran las reseñas del juego.\n",
    "* **specs**: Especificaciones técnicas del juego, representadas como una lista de uno o más strings con las especificaciones.\n",
    "* **price**: Precio del juego.\n",
    "* **early_access**: Indica si el juego tiene acceso temprano (True) o no (False).\n",
    "* **id**: Identificador único del juego.\n",
    "* **developer**: Desarrollador del juego.\n",
    "\n",
    "**Notas:**\n",
    "\n",
    "* Las columnas `genres` y `tags` contienen listas de valores separados por comas.\n",
    "* La columna `release_date` tiene un formato de fecha específico (YYYY-MM-DD).\n",
    "* La columna `price` puede contener valores numéricos o textuales (en caso de monedas no convencionales)."
   ]
  },
  {
   "cell_type": "markdown",
   "metadata": {},
   "source": [
    "### 3.2.3 Eliminación de datos duplicados"
   ]
  },
  {
   "cell_type": "markdown",
   "metadata": {},
   "source": [
    "Se analizan si hay duplicados teniendo en cuenta la columna del id del item."
   ]
  },
  {
   "cell_type": "code",
   "execution_count": 15,
   "metadata": {},
   "outputs": [
    {
     "data": {
      "text/html": [
       "<div>\n",
       "<style scoped>\n",
       "    .dataframe tbody tr th:only-of-type {\n",
       "        vertical-align: middle;\n",
       "    }\n",
       "\n",
       "    .dataframe tbody tr th {\n",
       "        vertical-align: top;\n",
       "    }\n",
       "\n",
       "    .dataframe thead th {\n",
       "        text-align: right;\n",
       "    }\n",
       "</style>\n",
       "<table border=\"1\" class=\"dataframe\">\n",
       "  <thead>\n",
       "    <tr style=\"text-align: right;\">\n",
       "      <th></th>\n",
       "      <th>publisher</th>\n",
       "      <th>genres</th>\n",
       "      <th>app_name</th>\n",
       "      <th>title</th>\n",
       "      <th>url</th>\n",
       "      <th>release_date</th>\n",
       "      <th>tags</th>\n",
       "      <th>reviews_url</th>\n",
       "      <th>specs</th>\n",
       "      <th>price</th>\n",
       "      <th>early_access</th>\n",
       "      <th>id</th>\n",
       "      <th>developer</th>\n",
       "    </tr>\n",
       "  </thead>\n",
       "  <tbody>\n",
       "    <tr>\n",
       "      <th>13894</th>\n",
       "      <td>Bethesda Softworks</td>\n",
       "      <td>[Action]</td>\n",
       "      <td>Wolfenstein II: The New Colossus</td>\n",
       "      <td>Wolfenstein II: The New Colossus</td>\n",
       "      <td>http://store.steampowered.com/app/612880/</td>\n",
       "      <td>2017-10-26</td>\n",
       "      <td>[Action, FPS, Gore, Violent, Alternate History...</td>\n",
       "      <td>http://steamcommunity.com/app/612880/reviews/?...</td>\n",
       "      <td>[Single-player, Steam Achievements, Full contr...</td>\n",
       "      <td>59.99</td>\n",
       "      <td>False</td>\n",
       "      <td>612880</td>\n",
       "      <td>Machine Games</td>\n",
       "    </tr>\n",
       "    <tr>\n",
       "      <th>14573</th>\n",
       "      <td>Bethesda Softworks</td>\n",
       "      <td>[Action]</td>\n",
       "      <td>Wolfenstein II: The New Colossus</td>\n",
       "      <td>Wolfenstein II: The New Colossus</td>\n",
       "      <td>http://store.steampowered.com/app/612880/Wolfe...</td>\n",
       "      <td>2017-10-26</td>\n",
       "      <td>[Action, FPS, Gore, Violent, Alternate History...</td>\n",
       "      <td>http://steamcommunity.com/app/612880/reviews/?...</td>\n",
       "      <td>[Single-player, Steam Achievements, Full contr...</td>\n",
       "      <td>59.99</td>\n",
       "      <td>False</td>\n",
       "      <td>612880</td>\n",
       "      <td>Machine Games</td>\n",
       "    </tr>\n",
       "    <tr>\n",
       "      <th>74</th>\n",
       "      <td>NaN</td>\n",
       "      <td>NaN</td>\n",
       "      <td>NaN</td>\n",
       "      <td>NaN</td>\n",
       "      <td>http://store.steampowered.com/</td>\n",
       "      <td>NaN</td>\n",
       "      <td>NaN</td>\n",
       "      <td>NaN</td>\n",
       "      <td>NaN</td>\n",
       "      <td>19.99</td>\n",
       "      <td>False</td>\n",
       "      <td>NaN</td>\n",
       "      <td>NaN</td>\n",
       "    </tr>\n",
       "    <tr>\n",
       "      <th>30961</th>\n",
       "      <td>Warner Bros. Interactive Entertainment, Feral ...</td>\n",
       "      <td>[Action, Adventure]</td>\n",
       "      <td>Batman: Arkham City - Game of the Year Edition</td>\n",
       "      <td>Batman: Arkham City - Game of the Year Edition</td>\n",
       "      <td>http://store.steampowered.com/app/200260</td>\n",
       "      <td>2012-09-07</td>\n",
       "      <td>[Action, Open World, Batman, Adventure, Stealt...</td>\n",
       "      <td>NaN</td>\n",
       "      <td>[Single-player, Steam Achievements, Steam Trad...</td>\n",
       "      <td>19.99</td>\n",
       "      <td>False</td>\n",
       "      <td>NaN</td>\n",
       "      <td>Rocksteady Studios,Feral Interactive (Mac)</td>\n",
       "    </tr>\n",
       "  </tbody>\n",
       "</table>\n",
       "</div>"
      ],
      "text/plain": [
       "                                               publisher               genres  \\\n",
       "13894                                 Bethesda Softworks             [Action]   \n",
       "14573                                 Bethesda Softworks             [Action]   \n",
       "74                                                   NaN                  NaN   \n",
       "30961  Warner Bros. Interactive Entertainment, Feral ...  [Action, Adventure]   \n",
       "\n",
       "                                             app_name  \\\n",
       "13894                Wolfenstein II: The New Colossus   \n",
       "14573                Wolfenstein II: The New Colossus   \n",
       "74                                                NaN   \n",
       "30961  Batman: Arkham City - Game of the Year Edition   \n",
       "\n",
       "                                                title  \\\n",
       "13894                Wolfenstein II: The New Colossus   \n",
       "14573                Wolfenstein II: The New Colossus   \n",
       "74                                                NaN   \n",
       "30961  Batman: Arkham City - Game of the Year Edition   \n",
       "\n",
       "                                                     url release_date  \\\n",
       "13894          http://store.steampowered.com/app/612880/   2017-10-26   \n",
       "14573  http://store.steampowered.com/app/612880/Wolfe...   2017-10-26   \n",
       "74                        http://store.steampowered.com/          NaN   \n",
       "30961           http://store.steampowered.com/app/200260   2012-09-07   \n",
       "\n",
       "                                                    tags  \\\n",
       "13894  [Action, FPS, Gore, Violent, Alternate History...   \n",
       "14573  [Action, FPS, Gore, Violent, Alternate History...   \n",
       "74                                                   NaN   \n",
       "30961  [Action, Open World, Batman, Adventure, Stealt...   \n",
       "\n",
       "                                             reviews_url  \\\n",
       "13894  http://steamcommunity.com/app/612880/reviews/?...   \n",
       "14573  http://steamcommunity.com/app/612880/reviews/?...   \n",
       "74                                                   NaN   \n",
       "30961                                                NaN   \n",
       "\n",
       "                                                   specs  price early_access  \\\n",
       "13894  [Single-player, Steam Achievements, Full contr...  59.99        False   \n",
       "14573  [Single-player, Steam Achievements, Full contr...  59.99        False   \n",
       "74                                                   NaN  19.99        False   \n",
       "30961  [Single-player, Steam Achievements, Steam Trad...  19.99        False   \n",
       "\n",
       "           id                                   developer  \n",
       "13894  612880                               Machine Games  \n",
       "14573  612880                               Machine Games  \n",
       "74        NaN                                         NaN  \n",
       "30961     NaN  Rocksteady Studios,Feral Interactive (Mac)  "
      ]
     },
     "execution_count": 15,
     "metadata": {},
     "output_type": "execute_result"
    }
   ],
   "source": [
    "FP.verifica_duplicados_por_columna(df_steam_games, 'id')"
   ]
  },
  {
   "cell_type": "markdown",
   "metadata": {},
   "source": [
    "Identificación de Items Duplicados:\n",
    "\n",
    "Se han detectado dos items duplicados en el conjunto de datos:\n",
    "\n",
    "* **Primer caso:** Registro con ID 612880, que aparece duplicado exactamente.\n",
    "* **Segundo caso:** Registro con ID `NaN` (Not a Number) y una diferencia en la cantidad de valores NaN entre las dos apariciones."
   ]
  },
  {
   "cell_type": "markdown",
   "metadata": {},
   "source": [
    "En primer lugar se busca por el 'developer' si este juego está ya registrado."
   ]
  },
  {
   "cell_type": "code",
   "execution_count": 16,
   "metadata": {},
   "outputs": [
    {
     "data": {
      "text/html": [
       "<div>\n",
       "<style scoped>\n",
       "    .dataframe tbody tr th:only-of-type {\n",
       "        vertical-align: middle;\n",
       "    }\n",
       "\n",
       "    .dataframe tbody tr th {\n",
       "        vertical-align: top;\n",
       "    }\n",
       "\n",
       "    .dataframe thead th {\n",
       "        text-align: right;\n",
       "    }\n",
       "</style>\n",
       "<table border=\"1\" class=\"dataframe\">\n",
       "  <thead>\n",
       "    <tr style=\"text-align: right;\">\n",
       "      <th></th>\n",
       "      <th>publisher</th>\n",
       "      <th>genres</th>\n",
       "      <th>app_name</th>\n",
       "      <th>title</th>\n",
       "      <th>url</th>\n",
       "      <th>release_date</th>\n",
       "      <th>tags</th>\n",
       "      <th>reviews_url</th>\n",
       "      <th>specs</th>\n",
       "      <th>price</th>\n",
       "      <th>early_access</th>\n",
       "      <th>id</th>\n",
       "      <th>developer</th>\n",
       "    </tr>\n",
       "  </thead>\n",
       "  <tbody>\n",
       "    <tr>\n",
       "      <th>1068</th>\n",
       "      <td>Warner Bros. Interactive Entertainment, Feral ...</td>\n",
       "      <td>[Action, Adventure]</td>\n",
       "      <td>Batman: Arkham City - Game of the Year Edition</td>\n",
       "      <td>Batman: Arkham City - Game of the Year Edition</td>\n",
       "      <td>http://store.steampowered.com/app/200260/Batma...</td>\n",
       "      <td>2012-09-07</td>\n",
       "      <td>[Action, Open World, Batman, Adventure, Stealt...</td>\n",
       "      <td>http://steamcommunity.com/app/200260/reviews/?...</td>\n",
       "      <td>[Single-player, Steam Achievements, Steam Trad...</td>\n",
       "      <td>19.99</td>\n",
       "      <td>False</td>\n",
       "      <td>200260</td>\n",
       "      <td>Rocksteady Studios,Feral Interactive (Mac)</td>\n",
       "    </tr>\n",
       "    <tr>\n",
       "      <th>30961</th>\n",
       "      <td>Warner Bros. Interactive Entertainment, Feral ...</td>\n",
       "      <td>[Action, Adventure]</td>\n",
       "      <td>Batman: Arkham City - Game of the Year Edition</td>\n",
       "      <td>Batman: Arkham City - Game of the Year Edition</td>\n",
       "      <td>http://store.steampowered.com/app/200260</td>\n",
       "      <td>2012-09-07</td>\n",
       "      <td>[Action, Open World, Batman, Adventure, Stealt...</td>\n",
       "      <td>NaN</td>\n",
       "      <td>[Single-player, Steam Achievements, Steam Trad...</td>\n",
       "      <td>19.99</td>\n",
       "      <td>False</td>\n",
       "      <td>NaN</td>\n",
       "      <td>Rocksteady Studios,Feral Interactive (Mac)</td>\n",
       "    </tr>\n",
       "    <tr>\n",
       "      <th>31617</th>\n",
       "      <td>Warner Bros. Interactive Entertainment, Feral ...</td>\n",
       "      <td>[Action, Adventure]</td>\n",
       "      <td>Batman: Arkham Asylum Game of the Year Edition</td>\n",
       "      <td>Batman: Arkham Asylum Game of the Year Edition</td>\n",
       "      <td>http://store.steampowered.com/app/35140/Batman...</td>\n",
       "      <td>2010-03-26</td>\n",
       "      <td>[Action, Batman, Stealth, Adventure, Third Per...</td>\n",
       "      <td>http://steamcommunity.com/app/35140/reviews/?b...</td>\n",
       "      <td>[Single-player, Steam Achievements, Steam Trad...</td>\n",
       "      <td>19.99</td>\n",
       "      <td>False</td>\n",
       "      <td>35140</td>\n",
       "      <td>Rocksteady Studios,Feral Interactive (Mac)</td>\n",
       "    </tr>\n",
       "  </tbody>\n",
       "</table>\n",
       "</div>"
      ],
      "text/plain": [
       "                                               publisher               genres  \\\n",
       "1068   Warner Bros. Interactive Entertainment, Feral ...  [Action, Adventure]   \n",
       "30961  Warner Bros. Interactive Entertainment, Feral ...  [Action, Adventure]   \n",
       "31617  Warner Bros. Interactive Entertainment, Feral ...  [Action, Adventure]   \n",
       "\n",
       "                                             app_name  \\\n",
       "1068   Batman: Arkham City - Game of the Year Edition   \n",
       "30961  Batman: Arkham City - Game of the Year Edition   \n",
       "31617  Batman: Arkham Asylum Game of the Year Edition   \n",
       "\n",
       "                                                title  \\\n",
       "1068   Batman: Arkham City - Game of the Year Edition   \n",
       "30961  Batman: Arkham City - Game of the Year Edition   \n",
       "31617  Batman: Arkham Asylum Game of the Year Edition   \n",
       "\n",
       "                                                     url release_date  \\\n",
       "1068   http://store.steampowered.com/app/200260/Batma...   2012-09-07   \n",
       "30961           http://store.steampowered.com/app/200260   2012-09-07   \n",
       "31617  http://store.steampowered.com/app/35140/Batman...   2010-03-26   \n",
       "\n",
       "                                                    tags  \\\n",
       "1068   [Action, Open World, Batman, Adventure, Stealt...   \n",
       "30961  [Action, Open World, Batman, Adventure, Stealt...   \n",
       "31617  [Action, Batman, Stealth, Adventure, Third Per...   \n",
       "\n",
       "                                             reviews_url  \\\n",
       "1068   http://steamcommunity.com/app/200260/reviews/?...   \n",
       "30961                                                NaN   \n",
       "31617  http://steamcommunity.com/app/35140/reviews/?b...   \n",
       "\n",
       "                                                   specs  price early_access  \\\n",
       "1068   [Single-player, Steam Achievements, Steam Trad...  19.99        False   \n",
       "30961  [Single-player, Steam Achievements, Steam Trad...  19.99        False   \n",
       "31617  [Single-player, Steam Achievements, Steam Trad...  19.99        False   \n",
       "\n",
       "           id                                   developer  \n",
       "1068   200260  Rocksteady Studios,Feral Interactive (Mac)  \n",
       "30961     NaN  Rocksteady Studios,Feral Interactive (Mac)  \n",
       "31617   35140  Rocksteady Studios,Feral Interactive (Mac)  "
      ]
     },
     "execution_count": 16,
     "metadata": {},
     "output_type": "execute_result"
    }
   ],
   "source": [
    "df_steam_games[df_steam_games['developer']=='Rocksteady Studios,Feral Interactive (Mac)']"
   ]
  },
  {
   "cell_type": "markdown",
   "metadata": {},
   "source": [
    "Observamos que el item sin 'id' corresponde al 'id' 200260, y su registro está completo. En vista de esto, se recomienda eliminar ambas filas duplicadas."
   ]
  },
  {
   "cell_type": "code",
   "execution_count": 17,
   "metadata": {},
   "outputs": [
    {
     "data": {
      "text/plain": [
       "'No hay duplicados'"
      ]
     },
     "execution_count": 17,
     "metadata": {},
     "output_type": "execute_result"
    }
   ],
   "source": [
    "# se eliminan los index detectados en el paso anterior\n",
    "index_a_eliminar = [14573, 74, 30961]\n",
    "df_steam_games = df_steam_games.drop(index_a_eliminar)\n",
    "\n",
    "# se verifica si hay dupliados\n",
    "FP.verifica_duplicados_por_columna(df_steam_games, 'id')"
   ]
  },
  {
   "cell_type": "markdown",
   "metadata": {},
   "source": [
    "### 3.2.4 Datos incorrectos o irrelevantes"
   ]
  },
  {
   "cell_type": "markdown",
   "metadata": {},
   "source": [
    "* Las columnas 'tags', 'specs', 'url' y 'reviews_url' son irrelevantes para el análisis\n",
    "* Estas columnas, en esta primer instancia, no se utilizarán para las consultas de la API ni para el modelo de recomendación, por lo tanto se eliminan del dataframe."
   ]
  },
  {
   "cell_type": "code",
   "execution_count": 18,
   "metadata": {},
   "outputs": [
    {
     "data": {
      "text/plain": [
       "Index(['publisher', 'genres', 'app_name', 'title', 'release_date', 'price',\n",
       "       'early_access', 'id', 'developer'],\n",
       "      dtype='object')"
      ]
     },
     "execution_count": 18,
     "metadata": {},
     "output_type": "execute_result"
    }
   ],
   "source": [
    "df_steam_games = df_steam_games.drop(['tags', 'specs', 'url', 'reviews_url'], axis=1)\n",
    "df_steam_games.columns"
   ]
  },
  {
   "cell_type": "markdown",
   "metadata": {},
   "source": [
    "### 3.2.5 Datos categóricos"
   ]
  },
  {
   "cell_type": "markdown",
   "metadata": {},
   "source": [
    "#### 3.2.5.1 Columna 'price'"
   ]
  },
  {
   "cell_type": "markdown",
   "metadata": {},
   "source": [
    "Esta columna requiere tratamiento debido a la presencia de valores de texto en casos de promociones o ítems gratuitos. Para facilitar el manejo de datos y permitir operaciones posteriores, se ha decidido reemplazar estos valores de texto por 0. Adicionalmente, dado que la columna también contiene valores nulos, se optará por imputarlos como 0 para garantizar la consistencia y evitar errores en cálculos futuros."
   ]
  },
  {
   "cell_type": "code",
   "execution_count": 19,
   "metadata": {},
   "outputs": [
    {
     "data": {
      "text/plain": [
       "dtype('float64')"
      ]
     },
     "execution_count": 19,
     "metadata": {},
     "output_type": "execute_result"
    }
   ],
   "source": [
    "df_steam_games['price'] = df_steam_games['price'].apply(FP.reemplaza_a_flotante)\n",
    "df_steam_games['price'].dtype"
   ]
  },
  {
   "cell_type": "markdown",
   "metadata": {},
   "source": [
    "#### 3.2.5.2 Columnas 'release_date'"
   ]
  },
  {
   "cell_type": "markdown",
   "metadata": {},
   "source": [
    "Se necesita extraer el año de lanzamiento del item, para ello se hace una nueva columna con el dato si existe o con un \"Dato no disponible\" si no esta la fecha. Luego se elimina la columa 'release_date'."
   ]
  },
  {
   "cell_type": "code",
   "execution_count": 20,
   "metadata": {},
   "outputs": [
    {
     "data": {
      "text/plain": [
       "release_date\n",
       "2012-10-16    100\n",
       "2017-08-31     92\n",
       "2017-09-26     89\n",
       "2017-06-21     82\n",
       "2017-07-25     78\n",
       "             ... \n",
       "1988-04-16      1\n",
       "2013-08-24      1\n",
       "2011-05-07      1\n",
       "2010-08-21      1\n",
       "2018-10-01      1\n",
       "Name: count, Length: 3582, dtype: int64"
      ]
     },
     "execution_count": 20,
     "metadata": {},
     "output_type": "execute_result"
    }
   ],
   "source": [
    "# Se observan las cantidades de registros por cada fecha\n",
    "df_steam_games['release_date'].value_counts()"
   ]
  },
  {
   "cell_type": "code",
   "execution_count": 21,
   "metadata": {},
   "outputs": [
    {
     "data": {
      "text/html": [
       "<div>\n",
       "<style scoped>\n",
       "    .dataframe tbody tr th:only-of-type {\n",
       "        vertical-align: middle;\n",
       "    }\n",
       "\n",
       "    .dataframe tbody tr th {\n",
       "        vertical-align: top;\n",
       "    }\n",
       "\n",
       "    .dataframe thead th {\n",
       "        text-align: right;\n",
       "    }\n",
       "</style>\n",
       "<table border=\"1\" class=\"dataframe\">\n",
       "  <thead>\n",
       "    <tr style=\"text-align: right;\">\n",
       "      <th></th>\n",
       "      <th>publisher</th>\n",
       "      <th>genres</th>\n",
       "      <th>app_name</th>\n",
       "      <th>title</th>\n",
       "      <th>price</th>\n",
       "      <th>early_access</th>\n",
       "      <th>id</th>\n",
       "      <th>developer</th>\n",
       "      <th>release_anio</th>\n",
       "    </tr>\n",
       "  </thead>\n",
       "  <tbody>\n",
       "    <tr>\n",
       "      <th>0</th>\n",
       "      <td>Kotoshiro</td>\n",
       "      <td>[Action, Casual, Indie, Simulation, Strategy]</td>\n",
       "      <td>Lost Summoner Kitty</td>\n",
       "      <td>Lost Summoner Kitty</td>\n",
       "      <td>4.99</td>\n",
       "      <td>False</td>\n",
       "      <td>761140</td>\n",
       "      <td>Kotoshiro</td>\n",
       "      <td>2018</td>\n",
       "    </tr>\n",
       "    <tr>\n",
       "      <th>1</th>\n",
       "      <td>Making Fun, Inc.</td>\n",
       "      <td>[Free to Play, Indie, RPG, Strategy]</td>\n",
       "      <td>Ironbound</td>\n",
       "      <td>Ironbound</td>\n",
       "      <td>0.00</td>\n",
       "      <td>False</td>\n",
       "      <td>643980</td>\n",
       "      <td>Secret Level SRL</td>\n",
       "      <td>2018</td>\n",
       "    </tr>\n",
       "    <tr>\n",
       "      <th>2</th>\n",
       "      <td>Poolians.com</td>\n",
       "      <td>[Casual, Free to Play, Indie, Simulation, Sports]</td>\n",
       "      <td>Real Pool 3D - Poolians</td>\n",
       "      <td>Real Pool 3D - Poolians</td>\n",
       "      <td>0.00</td>\n",
       "      <td>False</td>\n",
       "      <td>670290</td>\n",
       "      <td>Poolians.com</td>\n",
       "      <td>2017</td>\n",
       "    </tr>\n",
       "    <tr>\n",
       "      <th>3</th>\n",
       "      <td>彼岸领域</td>\n",
       "      <td>[Action, Adventure, Casual]</td>\n",
       "      <td>弹炸人2222</td>\n",
       "      <td>弹炸人2222</td>\n",
       "      <td>0.99</td>\n",
       "      <td>False</td>\n",
       "      <td>767400</td>\n",
       "      <td>彼岸领域</td>\n",
       "      <td>2017</td>\n",
       "    </tr>\n",
       "    <tr>\n",
       "      <th>4</th>\n",
       "      <td>NaN</td>\n",
       "      <td>NaN</td>\n",
       "      <td>Log Challenge</td>\n",
       "      <td>NaN</td>\n",
       "      <td>2.99</td>\n",
       "      <td>False</td>\n",
       "      <td>773570</td>\n",
       "      <td>NaN</td>\n",
       "      <td>Dato no disponible</td>\n",
       "    </tr>\n",
       "  </tbody>\n",
       "</table>\n",
       "</div>"
      ],
      "text/plain": [
       "          publisher                                             genres  \\\n",
       "0         Kotoshiro      [Action, Casual, Indie, Simulation, Strategy]   \n",
       "1  Making Fun, Inc.               [Free to Play, Indie, RPG, Strategy]   \n",
       "2      Poolians.com  [Casual, Free to Play, Indie, Simulation, Sports]   \n",
       "3              彼岸领域                        [Action, Adventure, Casual]   \n",
       "4               NaN                                                NaN   \n",
       "\n",
       "                  app_name                    title  price early_access  \\\n",
       "0      Lost Summoner Kitty      Lost Summoner Kitty   4.99        False   \n",
       "1                Ironbound                Ironbound   0.00        False   \n",
       "2  Real Pool 3D - Poolians  Real Pool 3D - Poolians   0.00        False   \n",
       "3                  弹炸人2222                  弹炸人2222   0.99        False   \n",
       "4            Log Challenge                      NaN   2.99        False   \n",
       "\n",
       "       id         developer        release_anio  \n",
       "0  761140         Kotoshiro                2018  \n",
       "1  643980  Secret Level SRL                2018  \n",
       "2  670290      Poolians.com                2017  \n",
       "3  767400              彼岸领域                2017  \n",
       "4  773570               NaN  Dato no disponible  "
      ]
     },
     "execution_count": 21,
     "metadata": {},
     "output_type": "execute_result"
    }
   ],
   "source": [
    "# Crea columna nueva con el año\n",
    "df_steam_games['release_anio'] = df_steam_games['release_date'].apply(FP.obtener_anio_release)\n",
    "\n",
    "# elimina la columna 'release_date'\n",
    "df_steam_games = df_steam_games.drop('release_date', axis=1)\n",
    "df_steam_games.head()"
   ]
  },
  {
   "cell_type": "code",
   "execution_count": 22,
   "metadata": {},
   "outputs": [
    {
     "data": {
      "text/plain": [
       "array(['2018', '2017', 'Dato no disponible', '1997', '1998', '2016',\n",
       "       '2006', '2005', '2003', '2007', '2002', '2000', '1995', '1996',\n",
       "       '1994', '2001', '1993', '2004', '1999', '2008', '2009', '1992',\n",
       "       '1989', '2010', '2011', '2013', '2012', '2014', '1983', '1984',\n",
       "       '2015', '1990', '1988', '1991', '1985', '1982', '1987', '1981',\n",
       "       '1986', '2021', '2019', '1975', '1970', '1980'], dtype=object)"
      ]
     },
     "execution_count": 22,
     "metadata": {},
     "output_type": "execute_result"
    }
   ],
   "source": [
    "df_steam_games['release_anio'].unique()"
   ]
  },
  {
   "cell_type": "markdown",
   "metadata": {},
   "source": [
    "#### 3.2.5.3 Columnas 'genres'"
   ]
  },
  {
   "cell_type": "markdown",
   "metadata": {},
   "source": [
    "La columna 'genres' esta formada por una lista de los distintos géneros de los videojuegos. Se necesita hacer una columna con cada género."
   ]
  },
  {
   "cell_type": "code",
   "execution_count": 23,
   "metadata": {},
   "outputs": [
    {
     "data": {
      "text/html": [
       "<div>\n",
       "<style scoped>\n",
       "    .dataframe tbody tr th:only-of-type {\n",
       "        vertical-align: middle;\n",
       "    }\n",
       "\n",
       "    .dataframe tbody tr th {\n",
       "        vertical-align: top;\n",
       "    }\n",
       "\n",
       "    .dataframe thead th {\n",
       "        text-align: right;\n",
       "    }\n",
       "</style>\n",
       "<table border=\"1\" class=\"dataframe\">\n",
       "  <thead>\n",
       "    <tr style=\"text-align: right;\">\n",
       "      <th></th>\n",
       "      <th>publisher</th>\n",
       "      <th>genres</th>\n",
       "      <th>app_name</th>\n",
       "      <th>title</th>\n",
       "      <th>price</th>\n",
       "      <th>early_access</th>\n",
       "      <th>id</th>\n",
       "      <th>developer</th>\n",
       "      <th>release_anio</th>\n",
       "    </tr>\n",
       "  </thead>\n",
       "  <tbody>\n",
       "    <tr>\n",
       "      <th>0</th>\n",
       "      <td>Kotoshiro</td>\n",
       "      <td>Action</td>\n",
       "      <td>Lost Summoner Kitty</td>\n",
       "      <td>Lost Summoner Kitty</td>\n",
       "      <td>4.99</td>\n",
       "      <td>False</td>\n",
       "      <td>761140</td>\n",
       "      <td>Kotoshiro</td>\n",
       "      <td>2018</td>\n",
       "    </tr>\n",
       "    <tr>\n",
       "      <th>0</th>\n",
       "      <td>Kotoshiro</td>\n",
       "      <td>Casual</td>\n",
       "      <td>Lost Summoner Kitty</td>\n",
       "      <td>Lost Summoner Kitty</td>\n",
       "      <td>4.99</td>\n",
       "      <td>False</td>\n",
       "      <td>761140</td>\n",
       "      <td>Kotoshiro</td>\n",
       "      <td>2018</td>\n",
       "    </tr>\n",
       "    <tr>\n",
       "      <th>0</th>\n",
       "      <td>Kotoshiro</td>\n",
       "      <td>Indie</td>\n",
       "      <td>Lost Summoner Kitty</td>\n",
       "      <td>Lost Summoner Kitty</td>\n",
       "      <td>4.99</td>\n",
       "      <td>False</td>\n",
       "      <td>761140</td>\n",
       "      <td>Kotoshiro</td>\n",
       "      <td>2018</td>\n",
       "    </tr>\n",
       "    <tr>\n",
       "      <th>0</th>\n",
       "      <td>Kotoshiro</td>\n",
       "      <td>Simulation</td>\n",
       "      <td>Lost Summoner Kitty</td>\n",
       "      <td>Lost Summoner Kitty</td>\n",
       "      <td>4.99</td>\n",
       "      <td>False</td>\n",
       "      <td>761140</td>\n",
       "      <td>Kotoshiro</td>\n",
       "      <td>2018</td>\n",
       "    </tr>\n",
       "    <tr>\n",
       "      <th>0</th>\n",
       "      <td>Kotoshiro</td>\n",
       "      <td>Strategy</td>\n",
       "      <td>Lost Summoner Kitty</td>\n",
       "      <td>Lost Summoner Kitty</td>\n",
       "      <td>4.99</td>\n",
       "      <td>False</td>\n",
       "      <td>761140</td>\n",
       "      <td>Kotoshiro</td>\n",
       "      <td>2018</td>\n",
       "    </tr>\n",
       "  </tbody>\n",
       "</table>\n",
       "</div>"
      ],
      "text/plain": [
       "   publisher      genres             app_name                title  price  \\\n",
       "0  Kotoshiro      Action  Lost Summoner Kitty  Lost Summoner Kitty   4.99   \n",
       "0  Kotoshiro      Casual  Lost Summoner Kitty  Lost Summoner Kitty   4.99   \n",
       "0  Kotoshiro       Indie  Lost Summoner Kitty  Lost Summoner Kitty   4.99   \n",
       "0  Kotoshiro  Simulation  Lost Summoner Kitty  Lost Summoner Kitty   4.99   \n",
       "0  Kotoshiro    Strategy  Lost Summoner Kitty  Lost Summoner Kitty   4.99   \n",
       "\n",
       "  early_access      id  developer release_anio  \n",
       "0        False  761140  Kotoshiro         2018  \n",
       "0        False  761140  Kotoshiro         2018  \n",
       "0        False  761140  Kotoshiro         2018  \n",
       "0        False  761140  Kotoshiro         2018  \n",
       "0        False  761140  Kotoshiro         2018  "
      ]
     },
     "execution_count": 23,
     "metadata": {},
     "output_type": "execute_result"
    }
   ],
   "source": [
    "# Dividimos cada lista en filas separadas\n",
    "df_steam_games = df_steam_games.explode('genres')\n",
    "\n",
    "# Eliminamos los datos en vacios, haciendo enfasis solo en la columna 'genres'\n",
    "df_steam_games = df_steam_games.dropna(subset=['genres'])\n",
    "df_steam_games.head()"
   ]
  },
  {
   "cell_type": "markdown",
   "metadata": {},
   "source": [
    "#### 3.2.5.4 Columnas 'publisher', 'app_name', 'title', 'developer'"
   ]
  },
  {
   "cell_type": "markdown",
   "metadata": {},
   "source": [
    "Con el objetivo de mantener la consistencia del tipo de dato en estas columnas y facilitar el análisis de la información, se ha optado por completar los valores nulos con la expresión estandarizada \"Dato no disponible\". De esta manera, se elimina la heterogeneidad en el tipo de dato y se garantiza la uniformidad para un manejo posterior más eficiente."
   ]
  },
  {
   "cell_type": "code",
   "execution_count": 24,
   "metadata": {},
   "outputs": [
    {
     "data": {
      "text/html": [
       "<div>\n",
       "<style scoped>\n",
       "    .dataframe tbody tr th:only-of-type {\n",
       "        vertical-align: middle;\n",
       "    }\n",
       "\n",
       "    .dataframe tbody tr th {\n",
       "        vertical-align: top;\n",
       "    }\n",
       "\n",
       "    .dataframe thead th {\n",
       "        text-align: right;\n",
       "    }\n",
       "</style>\n",
       "<table border=\"1\" class=\"dataframe\">\n",
       "  <thead>\n",
       "    <tr style=\"text-align: right;\">\n",
       "      <th></th>\n",
       "      <th>genres</th>\n",
       "      <th>price</th>\n",
       "      <th>early_access</th>\n",
       "      <th>id</th>\n",
       "      <th>release_anio</th>\n",
       "      <th>publisher</th>\n",
       "      <th>app_name</th>\n",
       "      <th>title</th>\n",
       "      <th>developer</th>\n",
       "    </tr>\n",
       "  </thead>\n",
       "  <tbody>\n",
       "    <tr>\n",
       "      <th>0</th>\n",
       "      <td>Action</td>\n",
       "      <td>4.99</td>\n",
       "      <td>False</td>\n",
       "      <td>761140</td>\n",
       "      <td>2018</td>\n",
       "      <td>Kotoshiro</td>\n",
       "      <td>Lost Summoner Kitty</td>\n",
       "      <td>Lost Summoner Kitty</td>\n",
       "      <td>Kotoshiro</td>\n",
       "    </tr>\n",
       "    <tr>\n",
       "      <th>0</th>\n",
       "      <td>Casual</td>\n",
       "      <td>4.99</td>\n",
       "      <td>False</td>\n",
       "      <td>761140</td>\n",
       "      <td>2018</td>\n",
       "      <td>Kotoshiro</td>\n",
       "      <td>Lost Summoner Kitty</td>\n",
       "      <td>Lost Summoner Kitty</td>\n",
       "      <td>Kotoshiro</td>\n",
       "    </tr>\n",
       "    <tr>\n",
       "      <th>0</th>\n",
       "      <td>Indie</td>\n",
       "      <td>4.99</td>\n",
       "      <td>False</td>\n",
       "      <td>761140</td>\n",
       "      <td>2018</td>\n",
       "      <td>Kotoshiro</td>\n",
       "      <td>Lost Summoner Kitty</td>\n",
       "      <td>Lost Summoner Kitty</td>\n",
       "      <td>Kotoshiro</td>\n",
       "    </tr>\n",
       "    <tr>\n",
       "      <th>0</th>\n",
       "      <td>Simulation</td>\n",
       "      <td>4.99</td>\n",
       "      <td>False</td>\n",
       "      <td>761140</td>\n",
       "      <td>2018</td>\n",
       "      <td>Kotoshiro</td>\n",
       "      <td>Lost Summoner Kitty</td>\n",
       "      <td>Lost Summoner Kitty</td>\n",
       "      <td>Kotoshiro</td>\n",
       "    </tr>\n",
       "    <tr>\n",
       "      <th>0</th>\n",
       "      <td>Strategy</td>\n",
       "      <td>4.99</td>\n",
       "      <td>False</td>\n",
       "      <td>761140</td>\n",
       "      <td>2018</td>\n",
       "      <td>Kotoshiro</td>\n",
       "      <td>Lost Summoner Kitty</td>\n",
       "      <td>Lost Summoner Kitty</td>\n",
       "      <td>Kotoshiro</td>\n",
       "    </tr>\n",
       "  </tbody>\n",
       "</table>\n",
       "</div>"
      ],
      "text/plain": [
       "       genres  price early_access      id release_anio  publisher  \\\n",
       "0      Action   4.99        False  761140         2018  Kotoshiro   \n",
       "0      Casual   4.99        False  761140         2018  Kotoshiro   \n",
       "0       Indie   4.99        False  761140         2018  Kotoshiro   \n",
       "0  Simulation   4.99        False  761140         2018  Kotoshiro   \n",
       "0    Strategy   4.99        False  761140         2018  Kotoshiro   \n",
       "\n",
       "              app_name                title  developer  \n",
       "0  Lost Summoner Kitty  Lost Summoner Kitty  Kotoshiro  \n",
       "0  Lost Summoner Kitty  Lost Summoner Kitty  Kotoshiro  \n",
       "0  Lost Summoner Kitty  Lost Summoner Kitty  Kotoshiro  \n",
       "0  Lost Summoner Kitty  Lost Summoner Kitty  Kotoshiro  \n",
       "0  Lost Summoner Kitty  Lost Summoner Kitty  Kotoshiro  "
      ]
     },
     "execution_count": 24,
     "metadata": {},
     "output_type": "execute_result"
    }
   ],
   "source": [
    "# Definimos las columnas a transformar\n",
    "columnas_a_completar = ['publisher', 'app_name', 'title', 'developer']\n",
    "\n",
    "# Se rellenan los nulos\n",
    "df_relleno = df_steam_games[columnas_a_completar].fillna('Sin dato disponible')\n",
    "\n",
    "# Se borran las columnas originales y se concatenan las rellenas con todo el dataframe\n",
    "df_steam_games = pd.concat([df_steam_games.drop(columnas_a_completar, axis=1), df_relleno], axis=1)\n",
    "df_steam_games.head()"
   ]
  },
  {
   "cell_type": "markdown",
   "metadata": {},
   "source": [
    "Revisamos los tipos de datos y los nulos por cada columna"
   ]
  },
  {
   "cell_type": "code",
   "execution_count": 25,
   "metadata": {},
   "outputs": [
    {
     "data": {
      "text/html": [
       "<div>\n",
       "<style scoped>\n",
       "    .dataframe tbody tr th:only-of-type {\n",
       "        vertical-align: middle;\n",
       "    }\n",
       "\n",
       "    .dataframe tbody tr th {\n",
       "        vertical-align: top;\n",
       "    }\n",
       "\n",
       "    .dataframe thead th {\n",
       "        text-align: right;\n",
       "    }\n",
       "</style>\n",
       "<table border=\"1\" class=\"dataframe\">\n",
       "  <thead>\n",
       "    <tr style=\"text-align: right;\">\n",
       "      <th></th>\n",
       "      <th>nombre_campo</th>\n",
       "      <th>tipo_datos</th>\n",
       "      <th>no_nulos_%</th>\n",
       "      <th>nulos_%</th>\n",
       "      <th>nulos</th>\n",
       "    </tr>\n",
       "  </thead>\n",
       "  <tbody>\n",
       "    <tr>\n",
       "      <th>0</th>\n",
       "      <td>genres</td>\n",
       "      <td>[&lt;class 'str'&gt;]</td>\n",
       "      <td>100.0</td>\n",
       "      <td>0.0</td>\n",
       "      <td>0</td>\n",
       "    </tr>\n",
       "    <tr>\n",
       "      <th>1</th>\n",
       "      <td>price</td>\n",
       "      <td>[&lt;class 'float'&gt;]</td>\n",
       "      <td>100.0</td>\n",
       "      <td>0.0</td>\n",
       "      <td>0</td>\n",
       "    </tr>\n",
       "    <tr>\n",
       "      <th>2</th>\n",
       "      <td>early_access</td>\n",
       "      <td>[&lt;class 'bool'&gt;]</td>\n",
       "      <td>100.0</td>\n",
       "      <td>0.0</td>\n",
       "      <td>0</td>\n",
       "    </tr>\n",
       "    <tr>\n",
       "      <th>3</th>\n",
       "      <td>id</td>\n",
       "      <td>[&lt;class 'str'&gt;]</td>\n",
       "      <td>100.0</td>\n",
       "      <td>0.0</td>\n",
       "      <td>0</td>\n",
       "    </tr>\n",
       "    <tr>\n",
       "      <th>4</th>\n",
       "      <td>release_anio</td>\n",
       "      <td>[&lt;class 'str'&gt;]</td>\n",
       "      <td>100.0</td>\n",
       "      <td>0.0</td>\n",
       "      <td>0</td>\n",
       "    </tr>\n",
       "    <tr>\n",
       "      <th>5</th>\n",
       "      <td>publisher</td>\n",
       "      <td>[&lt;class 'str'&gt;]</td>\n",
       "      <td>100.0</td>\n",
       "      <td>0.0</td>\n",
       "      <td>0</td>\n",
       "    </tr>\n",
       "    <tr>\n",
       "      <th>6</th>\n",
       "      <td>app_name</td>\n",
       "      <td>[&lt;class 'str'&gt;]</td>\n",
       "      <td>100.0</td>\n",
       "      <td>0.0</td>\n",
       "      <td>0</td>\n",
       "    </tr>\n",
       "    <tr>\n",
       "      <th>7</th>\n",
       "      <td>title</td>\n",
       "      <td>[&lt;class 'str'&gt;]</td>\n",
       "      <td>100.0</td>\n",
       "      <td>0.0</td>\n",
       "      <td>0</td>\n",
       "    </tr>\n",
       "    <tr>\n",
       "      <th>8</th>\n",
       "      <td>developer</td>\n",
       "      <td>[&lt;class 'str'&gt;]</td>\n",
       "      <td>100.0</td>\n",
       "      <td>0.0</td>\n",
       "      <td>0</td>\n",
       "    </tr>\n",
       "  </tbody>\n",
       "</table>\n",
       "</div>"
      ],
      "text/plain": [
       "   nombre_campo         tipo_datos  no_nulos_%  nulos_%  nulos\n",
       "0        genres    [<class 'str'>]       100.0      0.0      0\n",
       "1         price  [<class 'float'>]       100.0      0.0      0\n",
       "2  early_access   [<class 'bool'>]       100.0      0.0      0\n",
       "3            id    [<class 'str'>]       100.0      0.0      0\n",
       "4  release_anio    [<class 'str'>]       100.0      0.0      0\n",
       "5     publisher    [<class 'str'>]       100.0      0.0      0\n",
       "6      app_name    [<class 'str'>]       100.0      0.0      0\n",
       "7         title    [<class 'str'>]       100.0      0.0      0\n",
       "8     developer    [<class 'str'>]       100.0      0.0      0"
      ]
     },
     "execution_count": 25,
     "metadata": {},
     "output_type": "execute_result"
    }
   ],
   "source": [
    "FP.tabla_tipo_datos(df_steam_games)"
   ]
  },
  {
   "cell_type": "markdown",
   "metadata": {},
   "source": [
    "### **<span style=\"color: #f7b538;\">**3.3.- Carga de datos**</span>**"
   ]
  },
  {
   "cell_type": "markdown",
   "metadata": {},
   "source": [
    "#### 3.3.1 Generación del archivo limpio"
   ]
  },
  {
   "cell_type": "markdown",
   "metadata": {},
   "source": [
    "Se guarda el dataframe transformado como `steam_games_limpio`"
   ]
  },
  {
   "cell_type": "code",
   "execution_count": 26,
   "metadata": {},
   "outputs": [
    {
     "name": "stderr",
     "output_type": "stream",
     "text": [
      "<>:1: SyntaxWarning: invalid escape sequence '\\d'\n",
      "<>:1: SyntaxWarning: invalid escape sequence '\\d'\n",
      "C:\\Users\\USUARIO\\AppData\\Local\\Temp\\ipykernel_12116\\4213811050.py:1: SyntaxWarning: invalid escape sequence '\\d'\n",
      "  nombre_archivo_limpio = 'Datasets\\df_steam_games_limpio.csv'\n"
     ]
    },
    {
     "name": "stdout",
     "output_type": "stream",
     "text": [
      "Se guardó el archivo Datasets\\df_steam_games_limpio.csv\n"
     ]
    }
   ],
   "source": [
    "nombre_archivo_limpio = 'Datasets\\df_steam_games_limpio.csv'\n",
    "df_steam_games.to_csv(nombre_archivo_limpio, index=False, encoding='utf-8')\n",
    "print(f'Se guardó el archivo {nombre_archivo_limpio}')"
   ]
  }
 ],
 "metadata": {
  "kernelspec": {
   "display_name": "Python 3",
   "language": "python",
   "name": "python3"
  },
  "language_info": {
   "codemirror_mode": {
    "name": "ipython",
    "version": 3
   },
   "file_extension": ".py",
   "mimetype": "text/x-python",
   "name": "python",
   "nbconvert_exporter": "python",
   "pygments_lexer": "ipython3",
   "version": "3.12.0"
  }
 },
 "nbformat": 4,
 "nbformat_minor": 2
}
