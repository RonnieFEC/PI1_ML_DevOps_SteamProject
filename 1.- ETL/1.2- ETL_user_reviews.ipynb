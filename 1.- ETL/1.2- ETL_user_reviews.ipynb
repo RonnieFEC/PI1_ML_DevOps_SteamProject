{
 "cells": [
  {
   "cell_type": "markdown",
   "metadata": {},
   "source": [
    " # ETL de **\"user_reviews\"**\n",
    " -------------"
   ]
  },
  {
   "cell_type": "markdown",
   "metadata": {},
   "source": [
    "En este jupyter notebook se desarrolla la extracción, transformación y carga del conjunto del dataset `\"user_reviews\"`"
   ]
  },
  {
   "cell_type": "markdown",
   "metadata": {},
   "source": [
    "-------------\n",
    "### Tabla de contenido\n",
    "\n",
    "- 1.- Introducción\n",
    "- 2.- Importación de las librerías y funciones personalizadas para el ETL\n",
    "    - 2.1.- Librerías\n",
    "    - 2.2.- Funciones Personalizadas\n",
    "- 3.- Desarrollo del proceso de ETL\n",
    "    - 3.1.- Extracción de datos\n",
    "        - 3.1.1.- Carga de archivos \"user_reviews.json.gz\"\n",
    "    - 3.2.- Transformación de datos\n",
    "        - 3.2.1.- Aspectos generales del Dataframe\n",
    "        - 3.2.2.- Exploración y tratamiendo de datos vacíos\n",
    "        - 3.2.3.- Eliminación de datos duplicados\n",
    "        - 3.2.4.- Datos incorrectos o irrelevantes\n",
    "        - 3.2.5.- Datos categóricos\n",
    "    - 3.3.- Carga de Datos\n",
    "        - 3.3.1 Generación del archivo limpio\n",
    "-------------"
   ]
  },
  {
   "cell_type": "markdown",
   "metadata": {},
   "source": [
    "## **<span style=\"color: #d8572a;\">1.- Introducción</span>**"
   ]
  },
  {
   "cell_type": "markdown",
   "metadata": {},
   "source": [
    "Este trabajo ETL tiene como objetivo procesar e integrar un conjunto de datos que contiene información sobre videojuegos de Steam. El conjunto de datos, titulado \"User_review\", consta de 25799 filas × 3 columnas, luego de un proceso de limpieza exhaustivo para eliminar filas con valores NaN. Los datos extraídos se transformarán y cargarán en un sistema de destino para su posterior análisis y utilización."
   ]
  },
  {
   "cell_type": "markdown",
   "metadata": {},
   "source": [
    "## **<span style=\"color: #d8572a;\">2.- Importación de las librerías y funciones personalizadas para el ETL</span>**"
   ]
  },
  {
   "cell_type": "markdown",
   "metadata": {},
   "source": [
    "### **<span style=\"color: #f7b538;\">2.1.- Librerías</span>**"
   ]
  },
  {
   "cell_type": "code",
   "execution_count": 56,
   "metadata": {},
   "outputs": [],
   "source": [
    "import pandas as pd\n",
    "import numpy as np"
   ]
  },
  {
   "cell_type": "markdown",
   "metadata": {},
   "source": [
    "### **<span style=\"color: #f7b538;\">2.2.- Funciones Personalizadas</span>**"
   ]
  },
  {
   "cell_type": "code",
   "execution_count": 57,
   "metadata": {},
   "outputs": [],
   "source": [
    "import Func_personalizadas.FPersonalizadas as FP"
   ]
  },
  {
   "cell_type": "markdown",
   "metadata": {},
   "source": [
    "## **<span style=\"color: #d8572a;\">3.- Desarrollo del proceso de ETL</span>**"
   ]
  },
  {
   "cell_type": "markdown",
   "metadata": {},
   "source": [
    "### **<span style=\"color: #f7b538;\">3.1.- Extracción de datos</span>**"
   ]
  },
  {
   "cell_type": "markdown",
   "metadata": {},
   "source": [
    "#### 3.1.1.- Carga de archivos \"user_reviews.json.gz\""
   ]
  },
  {
   "cell_type": "code",
   "execution_count": 58,
   "metadata": {},
   "outputs": [],
   "source": [
    "ruta_archivo= r\"C:\\Users\\USUARIO\\OneDrive\\6.- Data Science\\1.- Experiencia Soy Henry Bootcamp\\Labs\\PI 1\\ML_DevOps_Steam_Project\\Datasets\\user_reviews.json.gz\""
   ]
  },
  {
   "cell_type": "code",
   "execution_count": 59,
   "metadata": {},
   "outputs": [
    {
     "data": {
      "text/html": [
       "<div>\n",
       "<style scoped>\n",
       "    .dataframe tbody tr th:only-of-type {\n",
       "        vertical-align: middle;\n",
       "    }\n",
       "\n",
       "    .dataframe tbody tr th {\n",
       "        vertical-align: top;\n",
       "    }\n",
       "\n",
       "    .dataframe thead th {\n",
       "        text-align: right;\n",
       "    }\n",
       "</style>\n",
       "<table border=\"1\" class=\"dataframe\">\n",
       "  <thead>\n",
       "    <tr style=\"text-align: right;\">\n",
       "      <th></th>\n",
       "      <th>user_id</th>\n",
       "      <th>user_url</th>\n",
       "      <th>reviews</th>\n",
       "    </tr>\n",
       "  </thead>\n",
       "  <tbody>\n",
       "    <tr>\n",
       "      <th>0</th>\n",
       "      <td>76561197970982479</td>\n",
       "      <td>http://steamcommunity.com/profiles/76561197970...</td>\n",
       "      <td>[{'funny': '', 'posted': 'Posted November 5, 2...</td>\n",
       "    </tr>\n",
       "    <tr>\n",
       "      <th>1</th>\n",
       "      <td>js41637</td>\n",
       "      <td>http://steamcommunity.com/id/js41637</td>\n",
       "      <td>[{'funny': '', 'posted': 'Posted June 24, 2014...</td>\n",
       "    </tr>\n",
       "    <tr>\n",
       "      <th>2</th>\n",
       "      <td>evcentric</td>\n",
       "      <td>http://steamcommunity.com/id/evcentric</td>\n",
       "      <td>[{'funny': '', 'posted': 'Posted February 3.',...</td>\n",
       "    </tr>\n",
       "    <tr>\n",
       "      <th>3</th>\n",
       "      <td>doctr</td>\n",
       "      <td>http://steamcommunity.com/id/doctr</td>\n",
       "      <td>[{'funny': '', 'posted': 'Posted October 14, 2...</td>\n",
       "    </tr>\n",
       "    <tr>\n",
       "      <th>4</th>\n",
       "      <td>maplemage</td>\n",
       "      <td>http://steamcommunity.com/id/maplemage</td>\n",
       "      <td>[{'funny': '3 people found this review funny',...</td>\n",
       "    </tr>\n",
       "    <tr>\n",
       "      <th>...</th>\n",
       "      <td>...</td>\n",
       "      <td>...</td>\n",
       "      <td>...</td>\n",
       "    </tr>\n",
       "    <tr>\n",
       "      <th>25794</th>\n",
       "      <td>76561198306599751</td>\n",
       "      <td>http://steamcommunity.com/profiles/76561198306...</td>\n",
       "      <td>[{'funny': '', 'posted': 'Posted May 31.', 'la...</td>\n",
       "    </tr>\n",
       "    <tr>\n",
       "      <th>25795</th>\n",
       "      <td>Ghoustik</td>\n",
       "      <td>http://steamcommunity.com/id/Ghoustik</td>\n",
       "      <td>[{'funny': '', 'posted': 'Posted June 17.', 'l...</td>\n",
       "    </tr>\n",
       "    <tr>\n",
       "      <th>25796</th>\n",
       "      <td>76561198310819422</td>\n",
       "      <td>http://steamcommunity.com/profiles/76561198310...</td>\n",
       "      <td>[{'funny': '1 person found this review funny',...</td>\n",
       "    </tr>\n",
       "    <tr>\n",
       "      <th>25797</th>\n",
       "      <td>76561198312638244</td>\n",
       "      <td>http://steamcommunity.com/profiles/76561198312...</td>\n",
       "      <td>[{'funny': '', 'posted': 'Posted July 21.', 'l...</td>\n",
       "    </tr>\n",
       "    <tr>\n",
       "      <th>25798</th>\n",
       "      <td>LydiaMorley</td>\n",
       "      <td>http://steamcommunity.com/id/LydiaMorley</td>\n",
       "      <td>[{'funny': '1 person found this review funny',...</td>\n",
       "    </tr>\n",
       "  </tbody>\n",
       "</table>\n",
       "<p>25799 rows × 3 columns</p>\n",
       "</div>"
      ],
      "text/plain": [
       "                 user_id                                           user_url  \\\n",
       "0      76561197970982479  http://steamcommunity.com/profiles/76561197970...   \n",
       "1                js41637               http://steamcommunity.com/id/js41637   \n",
       "2              evcentric             http://steamcommunity.com/id/evcentric   \n",
       "3                  doctr                 http://steamcommunity.com/id/doctr   \n",
       "4              maplemage             http://steamcommunity.com/id/maplemage   \n",
       "...                  ...                                                ...   \n",
       "25794  76561198306599751  http://steamcommunity.com/profiles/76561198306...   \n",
       "25795           Ghoustik              http://steamcommunity.com/id/Ghoustik   \n",
       "25796  76561198310819422  http://steamcommunity.com/profiles/76561198310...   \n",
       "25797  76561198312638244  http://steamcommunity.com/profiles/76561198312...   \n",
       "25798        LydiaMorley           http://steamcommunity.com/id/LydiaMorley   \n",
       "\n",
       "                                                 reviews  \n",
       "0      [{'funny': '', 'posted': 'Posted November 5, 2...  \n",
       "1      [{'funny': '', 'posted': 'Posted June 24, 2014...  \n",
       "2      [{'funny': '', 'posted': 'Posted February 3.',...  \n",
       "3      [{'funny': '', 'posted': 'Posted October 14, 2...  \n",
       "4      [{'funny': '3 people found this review funny',...  \n",
       "...                                                  ...  \n",
       "25794  [{'funny': '', 'posted': 'Posted May 31.', 'la...  \n",
       "25795  [{'funny': '', 'posted': 'Posted June 17.', 'l...  \n",
       "25796  [{'funny': '1 person found this review funny',...  \n",
       "25797  [{'funny': '', 'posted': 'Posted July 21.', 'l...  \n",
       "25798  [{'funny': '1 person found this review funny',...  \n",
       "\n",
       "[25799 rows x 3 columns]"
      ]
     },
     "execution_count": 59,
     "metadata": {},
     "output_type": "execute_result"
    }
   ],
   "source": [
    "df_user_reviews = FP.open_json_path_wlist(ruta_archivo)\n",
    "df_user_reviews"
   ]
  },
  {
   "cell_type": "markdown",
   "metadata": {},
   "source": [
    "### **<span style=\"color: #f7b538;\">**3.2.- Transformación de datos**</span>**"
   ]
  },
  {
   "cell_type": "markdown",
   "metadata": {},
   "source": [
    "#### 3.2.1.- Aspectos generales del Dataframe"
   ]
  },
  {
   "cell_type": "code",
   "execution_count": 60,
   "metadata": {},
   "outputs": [
    {
     "data": {
      "text/plain": [
       "(25799, 3)"
      ]
     },
     "execution_count": 60,
     "metadata": {},
     "output_type": "execute_result"
    }
   ],
   "source": [
    "# Dimensiones del dataframe\n",
    "df_user_reviews.shape"
   ]
  },
  {
   "cell_type": "code",
   "execution_count": 61,
   "metadata": {},
   "outputs": [
    {
     "data": {
      "text/plain": [
       "Index(['user_id', 'user_url', 'reviews'], dtype='object')"
      ]
     },
     "execution_count": 61,
     "metadata": {},
     "output_type": "execute_result"
    }
   ],
   "source": [
    "df_user_reviews.columns"
   ]
  },
  {
   "cell_type": "code",
   "execution_count": 62,
   "metadata": {},
   "outputs": [
    {
     "name": "stdout",
     "output_type": "stream",
     "text": [
      "<class 'pandas.core.frame.DataFrame'>\n",
      "RangeIndex: 25799 entries, 0 to 25798\n",
      "Data columns (total 3 columns):\n",
      " #   Column    Non-Null Count  Dtype \n",
      "---  ------    --------------  ----- \n",
      " 0   user_id   25799 non-null  object\n",
      " 1   user_url  25799 non-null  object\n",
      " 2   reviews   25799 non-null  object\n",
      "dtypes: object(3)\n",
      "memory usage: 604.8+ KB\n"
     ]
    }
   ],
   "source": [
    "df_user_reviews.info()"
   ]
  },
  {
   "cell_type": "code",
   "execution_count": 63,
   "metadata": {},
   "outputs": [
    {
     "ename": "AttributeError",
     "evalue": "'DataFrame' object has no attribute 'id'",
     "output_type": "error",
     "traceback": [
      "\u001b[1;31m---------------------------------------------------------------------------\u001b[0m",
      "\u001b[1;31mAttributeError\u001b[0m                            Traceback (most recent call last)",
      "\u001b[1;32m~\\AppData\\Local\\Temp\\ipykernel_21396\\1500675915.py\u001b[0m in \u001b[0;36m?\u001b[1;34m()\u001b[0m\n\u001b[1;32m----> 1\u001b[1;33m \u001b[0mdf_user_reviews\u001b[0m\u001b[1;33m.\u001b[0m\u001b[0mid\u001b[0m\u001b[1;33m.\u001b[0m\u001b[0mvalue_counts\u001b[0m\u001b[1;33m(\u001b[0m\u001b[1;33m)\u001b[0m\u001b[1;33m\u001b[0m\u001b[1;33m\u001b[0m\u001b[0m\n\u001b[0m",
      "\u001b[1;32mc:\\Users\\USUARIO\\AppData\\Local\\Programs\\Python\\Python312\\Lib\\site-packages\\pandas\\core\\generic.py\u001b[0m in \u001b[0;36m?\u001b[1;34m(self, name)\u001b[0m\n\u001b[0;32m   6200\u001b[0m             \u001b[1;32mand\u001b[0m \u001b[0mname\u001b[0m \u001b[1;32mnot\u001b[0m \u001b[1;32min\u001b[0m \u001b[0mself\u001b[0m\u001b[1;33m.\u001b[0m\u001b[0m_accessors\u001b[0m\u001b[1;33m\u001b[0m\u001b[1;33m\u001b[0m\u001b[0m\n\u001b[0;32m   6201\u001b[0m             \u001b[1;32mand\u001b[0m \u001b[0mself\u001b[0m\u001b[1;33m.\u001b[0m\u001b[0m_info_axis\u001b[0m\u001b[1;33m.\u001b[0m\u001b[0m_can_hold_identifiers_and_holds_name\u001b[0m\u001b[1;33m(\u001b[0m\u001b[0mname\u001b[0m\u001b[1;33m)\u001b[0m\u001b[1;33m\u001b[0m\u001b[1;33m\u001b[0m\u001b[0m\n\u001b[0;32m   6202\u001b[0m         \u001b[1;33m)\u001b[0m\u001b[1;33m:\u001b[0m\u001b[1;33m\u001b[0m\u001b[1;33m\u001b[0m\u001b[0m\n\u001b[0;32m   6203\u001b[0m             \u001b[1;32mreturn\u001b[0m \u001b[0mself\u001b[0m\u001b[1;33m[\u001b[0m\u001b[0mname\u001b[0m\u001b[1;33m]\u001b[0m\u001b[1;33m\u001b[0m\u001b[1;33m\u001b[0m\u001b[0m\n\u001b[1;32m-> 6204\u001b[1;33m         \u001b[1;32mreturn\u001b[0m \u001b[0mobject\u001b[0m\u001b[1;33m.\u001b[0m\u001b[0m__getattribute__\u001b[0m\u001b[1;33m(\u001b[0m\u001b[0mself\u001b[0m\u001b[1;33m,\u001b[0m \u001b[0mname\u001b[0m\u001b[1;33m)\u001b[0m\u001b[1;33m\u001b[0m\u001b[1;33m\u001b[0m\u001b[0m\n\u001b[0m",
      "\u001b[1;31mAttributeError\u001b[0m: 'DataFrame' object has no attribute 'id'"
     ]
    }
   ],
   "source": [
    "df_user_reviews.id.value_counts()"
   ]
  },
  {
   "cell_type": "markdown",
   "metadata": {},
   "source": [
    "### 3.2.2.- Exploración y tratamiendo de datos vacíos"
   ]
  },
  {
   "cell_type": "markdown",
   "metadata": {},
   "source": [
    "Eliminamos todas las filas que contengan datos vacíos en todos los campos"
   ]
  },
  {
   "cell_type": "code",
   "execution_count": null,
   "metadata": {},
   "outputs": [
    {
     "data": {
      "text/plain": [
       "(25799, 3)"
      ]
     },
     "execution_count": 17,
     "metadata": {},
     "output_type": "execute_result"
    }
   ],
   "source": [
    "## Eliminamos las filas vacías\n",
    "df_user_reviews = df_user_reviews.dropna(how='all').reset_index(drop=True)\n",
    "## Evaluamos dimensiones\n",
    "df_user_reviews.shape"
   ]
  },
  {
   "cell_type": "markdown",
   "metadata": {},
   "source": [
    "Revisamos los tipos de datos y los nulos por cada columna"
   ]
  },
  {
   "cell_type": "code",
   "execution_count": null,
   "metadata": {},
   "outputs": [
    {
     "data": {
      "text/html": [
       "<div>\n",
       "<style scoped>\n",
       "    .dataframe tbody tr th:only-of-type {\n",
       "        vertical-align: middle;\n",
       "    }\n",
       "\n",
       "    .dataframe tbody tr th {\n",
       "        vertical-align: top;\n",
       "    }\n",
       "\n",
       "    .dataframe thead th {\n",
       "        text-align: right;\n",
       "    }\n",
       "</style>\n",
       "<table border=\"1\" class=\"dataframe\">\n",
       "  <thead>\n",
       "    <tr style=\"text-align: right;\">\n",
       "      <th></th>\n",
       "      <th>nombre_campo</th>\n",
       "      <th>tipo_datos</th>\n",
       "      <th>no_nulos_%</th>\n",
       "      <th>nulos_%</th>\n",
       "      <th>nulos</th>\n",
       "    </tr>\n",
       "  </thead>\n",
       "  <tbody>\n",
       "    <tr>\n",
       "      <th>0</th>\n",
       "      <td>user_id</td>\n",
       "      <td>[&lt;class 'str'&gt;]</td>\n",
       "      <td>100.0</td>\n",
       "      <td>0.0</td>\n",
       "      <td>0</td>\n",
       "    </tr>\n",
       "    <tr>\n",
       "      <th>1</th>\n",
       "      <td>user_url</td>\n",
       "      <td>[&lt;class 'str'&gt;]</td>\n",
       "      <td>100.0</td>\n",
       "      <td>0.0</td>\n",
       "      <td>0</td>\n",
       "    </tr>\n",
       "    <tr>\n",
       "      <th>2</th>\n",
       "      <td>reviews</td>\n",
       "      <td>[&lt;class 'list'&gt;]</td>\n",
       "      <td>100.0</td>\n",
       "      <td>0.0</td>\n",
       "      <td>0</td>\n",
       "    </tr>\n",
       "  </tbody>\n",
       "</table>\n",
       "</div>"
      ],
      "text/plain": [
       "  nombre_campo        tipo_datos  no_nulos_%  nulos_%  nulos\n",
       "0      user_id   [<class 'str'>]       100.0      0.0      0\n",
       "1     user_url   [<class 'str'>]       100.0      0.0      0\n",
       "2      reviews  [<class 'list'>]       100.0      0.0      0"
      ]
     },
     "execution_count": 18,
     "metadata": {},
     "output_type": "execute_result"
    }
   ],
   "source": [
    "FP.tabla_tipo_datos(df_user_reviews)"
   ]
  },
  {
   "cell_type": "markdown",
   "metadata": {},
   "source": [
    "Revisamos a detalles las columnas que tienen estructura tipo lista, para entender su estructura"
   ]
  },
  {
   "cell_type": "code",
   "execution_count": null,
   "metadata": {},
   "outputs": [],
   "source": [
    "col_tipo_list = FP.identificar_columnas_con_listas(df_user_reviews)"
   ]
  },
  {
   "cell_type": "code",
   "execution_count": null,
   "metadata": {},
   "outputs": [
    {
     "name": "stdout",
     "output_type": "stream",
     "text": [
      "Columna reviews \n",
      " Tipo de Dato:  [{'funny': '', 'posted': 'Posted May 5, 2014.', 'last_edited': '', 'item_id': '249130', 'helpful': '7 of 8 people (88%) found this review helpful', 'recommend': True, 'review': 'This game is Marvellous.'}, {'funny': '', 'posted': 'Posted December 24, 2012.', 'last_edited': 'Last edited November 25, 2013.', 'item_id': '207610', 'helpful': '1 of 1 people (100%) found this review helpful', 'recommend': True, 'review': 'It reminds me of that TV Show called \"The Walking Dead\".'}, {'funny': '1 person found this review funny', 'posted': 'Posted October 21, 2012.', 'last_edited': 'Last edited November 25, 2013.', 'item_id': '550', 'helpful': '1 of 1 people (100%) found this review helpful', 'recommend': True, 'review': 'This game is fantastic if you are looking to DEADicate some time to it.'}, {'funny': '', 'posted': 'Posted March 20, 2012.', 'last_edited': 'Last edited June 22, 2014.', 'item_id': '65800', 'helpful': '1 of 1 people (100%) found this review helpful', 'recommend': True, 'review': 'If you like defending dungeons then I suppose this game would suit your needs.'}, {'funny': '', 'posted': 'Posted March 9, 2012.', 'last_edited': 'Last edited November 25, 2013.', 'item_id': '220', 'helpful': 'No ratings yet', 'recommend': True, 'review': \"You don't have to get this game. It's not like it's the greatest FPS of all time or anything. But have a think about it.\"}]\n"
     ]
    }
   ],
   "source": [
    "for col in col_tipo_list:    \n",
    "    print(f\"Columna {col} \\n Tipo de Dato: \",df_user_reviews[col][5])"
   ]
  },
  {
   "cell_type": "code",
   "execution_count": null,
   "metadata": {},
   "outputs": [
    {
     "data": {
      "text/plain": [
       "[{'funny': '',\n",
       "  'posted': 'Posted May 5, 2014.',\n",
       "  'last_edited': '',\n",
       "  'item_id': '249130',\n",
       "  'helpful': '7 of 8 people (88%) found this review helpful',\n",
       "  'recommend': True,\n",
       "  'review': 'This game is Marvellous.'},\n",
       " {'funny': '',\n",
       "  'posted': 'Posted December 24, 2012.',\n",
       "  'last_edited': 'Last edited November 25, 2013.',\n",
       "  'item_id': '207610',\n",
       "  'helpful': '1 of 1 people (100%) found this review helpful',\n",
       "  'recommend': True,\n",
       "  'review': 'It reminds me of that TV Show called \"The Walking Dead\".'},\n",
       " {'funny': '1 person found this review funny',\n",
       "  'posted': 'Posted October 21, 2012.',\n",
       "  'last_edited': 'Last edited November 25, 2013.',\n",
       "  'item_id': '550',\n",
       "  'helpful': '1 of 1 people (100%) found this review helpful',\n",
       "  'recommend': True,\n",
       "  'review': 'This game is fantastic if you are looking to DEADicate some time to it.'},\n",
       " {'funny': '',\n",
       "  'posted': 'Posted March 20, 2012.',\n",
       "  'last_edited': 'Last edited June 22, 2014.',\n",
       "  'item_id': '65800',\n",
       "  'helpful': '1 of 1 people (100%) found this review helpful',\n",
       "  'recommend': True,\n",
       "  'review': 'If you like defending dungeons then I suppose this game would suit your needs.'},\n",
       " {'funny': '',\n",
       "  'posted': 'Posted March 9, 2012.',\n",
       "  'last_edited': 'Last edited November 25, 2013.',\n",
       "  'item_id': '220',\n",
       "  'helpful': 'No ratings yet',\n",
       "  'recommend': True,\n",
       "  'review': \"You don't have to get this game. It's not like it's the greatest FPS of all time or anything. But have a think about it.\"}]"
      ]
     },
     "execution_count": 29,
     "metadata": {},
     "output_type": "execute_result"
    }
   ],
   "source": [
    "# Se observa el tipo de dato que contiene 'review'\n",
    "df_user_reviews['reviews'][5]"
   ]
  },
  {
   "cell_type": "markdown",
   "metadata": {},
   "source": [
    "### Alcance preliminar del diccionario de datos de \"User reviews\"\n",
    "\n",
    "**Descripción:**\n",
    "\n",
    "Este conjunto de datos contiene información sobre videojuegos. Tras la limpieza de filas no se evidencia valores tipo NaN, el conjunto final consta de 25799 filas y 3 columnas. A continuación, se detalla la descripción de cada columna:\n",
    "\n",
    "**Columnas:**\n",
    "\n",
    "* **user_id**: es un identificador único para el usuario.\n",
    "* **user_url**: es la url del perfil del usuario en streamcommunity.\n",
    "* **reviews**: contiene una lista de diccionarios. Para cada usuario se tiene uno o mas diccionario con el review. Cada diccionario contiene:\n",
    "    * **funny**: indica si alguien puso emoticón de gracioso al review.\n",
    "    * **posted**: es la fecha de posteo del review en formato Posted April 21, 2011.\n",
    "    * **last_edited**: es la fecha de la última edición.\n",
    "    * **item_id**: es el identificador único del item, es decir, del juego.\n",
    "    * **helpful**: es la estadística donde otros usuarios indican si fue útil la información.\n",
    "    * **recommend**: es un booleano que indica si el usuario recomienda o no el juego.\n",
    "    * **review**: es una sentencia string con los comentarios sobre el juego.\n",
    "\n",
    "\n",
    "**Notas:**\n",
    "\n",
    "* Las columnas `reviews` contienen listas de valores separados por comas."
   ]
  },
  {
   "cell_type": "markdown",
   "metadata": {},
   "source": [
    "### 3.2.3.- Eliminación de datos duplicados"
   ]
  },
  {
   "cell_type": "markdown",
   "metadata": {},
   "source": [
    "Se analizan si hay duplicados teniendo en cuenta la columna del user_id."
   ]
  },
  {
   "cell_type": "code",
   "execution_count": null,
   "metadata": {},
   "outputs": [
    {
     "data": {
      "text/html": [
       "<div>\n",
       "<style scoped>\n",
       "    .dataframe tbody tr th:only-of-type {\n",
       "        vertical-align: middle;\n",
       "    }\n",
       "\n",
       "    .dataframe tbody tr th {\n",
       "        vertical-align: top;\n",
       "    }\n",
       "\n",
       "    .dataframe thead th {\n",
       "        text-align: right;\n",
       "    }\n",
       "</style>\n",
       "<table border=\"1\" class=\"dataframe\">\n",
       "  <thead>\n",
       "    <tr style=\"text-align: right;\">\n",
       "      <th></th>\n",
       "      <th>user_id</th>\n",
       "      <th>user_url</th>\n",
       "      <th>reviews</th>\n",
       "    </tr>\n",
       "  </thead>\n",
       "  <tbody>\n",
       "    <tr>\n",
       "      <th>12888</th>\n",
       "      <td>05041129</td>\n",
       "      <td>http://steamcommunity.com/id/05041129</td>\n",
       "      <td>[{'funny': '', 'posted': 'Posted May 18, 2015....</td>\n",
       "    </tr>\n",
       "    <tr>\n",
       "      <th>5250</th>\n",
       "      <td>05041129</td>\n",
       "      <td>http://steamcommunity.com/id/05041129</td>\n",
       "      <td>[{'funny': '', 'posted': 'Posted May 18, 2015....</td>\n",
       "    </tr>\n",
       "    <tr>\n",
       "      <th>3133</th>\n",
       "      <td>111222333444555666888</td>\n",
       "      <td>http://steamcommunity.com/id/11122233344455566...</td>\n",
       "      <td>[{'funny': '', 'posted': 'Posted December 22, ...</td>\n",
       "    </tr>\n",
       "    <tr>\n",
       "      <th>3134</th>\n",
       "      <td>111222333444555666888</td>\n",
       "      <td>http://steamcommunity.com/id/11122233344455566...</td>\n",
       "      <td>[{'funny': '', 'posted': 'Posted December 22, ...</td>\n",
       "    </tr>\n",
       "    <tr>\n",
       "      <th>4139</th>\n",
       "      <td>29123</td>\n",
       "      <td>http://steamcommunity.com/id/29123</td>\n",
       "      <td>[{'funny': '', 'posted': 'Posted March 26.', '...</td>\n",
       "    </tr>\n",
       "    <tr>\n",
       "      <th>...</th>\n",
       "      <td>...</td>\n",
       "      <td>...</td>\n",
       "      <td>...</td>\n",
       "    </tr>\n",
       "    <tr>\n",
       "      <th>2721</th>\n",
       "      <td>xXAussieRockXx</td>\n",
       "      <td>http://steamcommunity.com/id/xXAussieRockXx</td>\n",
       "      <td>[{'funny': '', 'posted': 'Posted July 17, 2015...</td>\n",
       "    </tr>\n",
       "    <tr>\n",
       "      <th>2680</th>\n",
       "      <td>yolofaceguy</td>\n",
       "      <td>http://steamcommunity.com/id/yolofaceguy</td>\n",
       "      <td>[{'funny': '', 'posted': 'Posted October 31, 2...</td>\n",
       "    </tr>\n",
       "    <tr>\n",
       "      <th>17916</th>\n",
       "      <td>yolofaceguy</td>\n",
       "      <td>http://steamcommunity.com/id/yolofaceguy</td>\n",
       "      <td>[{'funny': '', 'posted': 'Posted October 31, 2...</td>\n",
       "    </tr>\n",
       "    <tr>\n",
       "      <th>5855</th>\n",
       "      <td>zeroblade</td>\n",
       "      <td>http://steamcommunity.com/id/zeroblade</td>\n",
       "      <td>[{'funny': '', 'posted': 'Posted November 30, ...</td>\n",
       "    </tr>\n",
       "    <tr>\n",
       "      <th>13975</th>\n",
       "      <td>zeroblade</td>\n",
       "      <td>http://steamcommunity.com/id/zeroblade</td>\n",
       "      <td>[{'funny': '', 'posted': 'Posted November 30, ...</td>\n",
       "    </tr>\n",
       "  </tbody>\n",
       "</table>\n",
       "<p>623 rows × 3 columns</p>\n",
       "</div>"
      ],
      "text/plain": [
       "                     user_id  \\\n",
       "12888               05041129   \n",
       "5250                05041129   \n",
       "3133   111222333444555666888   \n",
       "3134   111222333444555666888   \n",
       "4139                   29123   \n",
       "...                      ...   \n",
       "2721          xXAussieRockXx   \n",
       "2680             yolofaceguy   \n",
       "17916            yolofaceguy   \n",
       "5855               zeroblade   \n",
       "13975              zeroblade   \n",
       "\n",
       "                                                user_url  \\\n",
       "12888              http://steamcommunity.com/id/05041129   \n",
       "5250               http://steamcommunity.com/id/05041129   \n",
       "3133   http://steamcommunity.com/id/11122233344455566...   \n",
       "3134   http://steamcommunity.com/id/11122233344455566...   \n",
       "4139                  http://steamcommunity.com/id/29123   \n",
       "...                                                  ...   \n",
       "2721         http://steamcommunity.com/id/xXAussieRockXx   \n",
       "2680            http://steamcommunity.com/id/yolofaceguy   \n",
       "17916           http://steamcommunity.com/id/yolofaceguy   \n",
       "5855              http://steamcommunity.com/id/zeroblade   \n",
       "13975             http://steamcommunity.com/id/zeroblade   \n",
       "\n",
       "                                                 reviews  \n",
       "12888  [{'funny': '', 'posted': 'Posted May 18, 2015....  \n",
       "5250   [{'funny': '', 'posted': 'Posted May 18, 2015....  \n",
       "3133   [{'funny': '', 'posted': 'Posted December 22, ...  \n",
       "3134   [{'funny': '', 'posted': 'Posted December 22, ...  \n",
       "4139   [{'funny': '', 'posted': 'Posted March 26.', '...  \n",
       "...                                                  ...  \n",
       "2721   [{'funny': '', 'posted': 'Posted July 17, 2015...  \n",
       "2680   [{'funny': '', 'posted': 'Posted October 31, 2...  \n",
       "17916  [{'funny': '', 'posted': 'Posted October 31, 2...  \n",
       "5855   [{'funny': '', 'posted': 'Posted November 30, ...  \n",
       "13975  [{'funny': '', 'posted': 'Posted November 30, ...  \n",
       "\n",
       "[623 rows x 3 columns]"
      ]
     },
     "execution_count": 22,
     "metadata": {},
     "output_type": "execute_result"
    }
   ],
   "source": [
    "elementos_duplicados = FP.verifica_duplicados_por_columna(df_user_reviews, 'user_id')\n",
    "elementos_duplicados"
   ]
  },
  {
   "cell_type": "markdown",
   "metadata": {},
   "source": [
    "Identificación de Items Duplicados:\n",
    "\n",
    "Se han detectado 623 items duplicados en el conjunto de datos, sin embargo:\n",
    "\n",
    "* **Primero:** Se revisan si los review dentro de los datos anidados de 'review' la información\n",
    "* **Segundo:** Corroborar si se encuentra duplicada o si solo se duplica el 'user_id' porque hay mas de un comentario realizado por ese usuario."
   ]
  },
  {
   "cell_type": "markdown",
   "metadata": {},
   "source": [
    "En primer lugar se busca por el 'developer' si este juego está ya registrado."
   ]
  },
  {
   "cell_type": "code",
   "execution_count": null,
   "metadata": {},
   "outputs": [
    {
     "name": "stdout",
     "output_type": "stream",
     "text": [
      "from the creaters of the walking dead, i present to you, the wolf among us. a twisted an unhappy place where crimes are made in the town of the fables. Ecperience one of the most mind-bending, jaw-dropping twists you will see in all of gaming history...well, some of gaming history. SPOILERS: i really liked how bigby turns into his true form to fight all the bloody marys... its just like when neo fought all the agent smiths in the matrix. what i didnt really like is when i chose to lock the crooked man up it glitches my game and i start from the near begining where bigby fought the crooked man's crew, exept the guy who runs a strip club wasnt there. so i was really confused. but anyway i really recommend this game if you want twists and ♥♥♥♥ed up scenes.\n",
      "this game is awesome,this game is ♥♥♥♥ed up and this game is so sad and depressing. if you want these types of games i would strongly reccomend youto buy it. its worth your money\n",
      "----------------------------------------\n",
      "from the creaters of the walking dead, i present to you, the wolf among us. a twisted an unhappy place where crimes are made in the town of the fables. Ecperience one of the most mind-bending, jaw-dropping twists you will see in all of gaming history...well, some of gaming history. SPOILERS: i really liked how bigby turns into his true form to fight all the bloody marys... its just like when neo fought all the agent smiths in the matrix. what i didnt really like is when i chose to lock the crooked man up it glitches my game and i start from the near begining where bigby fought the crooked man's crew, exept the guy who runs a strip club wasnt there. so i was really confused. but anyway i really recommend this game if you want twists and ♥♥♥♥ed up scenes.\n",
      "this game is awesome,this game is ♥♥♥♥ed up and this game is so sad and depressing. if you want these types of games i would strongly reccomend youto buy it. its worth your money\n",
      "----------------------------------------\n"
     ]
    }
   ],
   "source": [
    "# Se revisa un usuario de ejemplo\n",
    "user_id = 'yolofaceguy'\n",
    "user_reviews = elementos_duplicados[elementos_duplicados['user_id'] == user_id]['reviews']\n",
    "\n",
    "for review_list in user_reviews:\n",
    "    for review in review_list:\n",
    "        print(review['review'])\n",
    "    print('-' * 40)"
   ]
  },
  {
   "cell_type": "markdown",
   "metadata": {},
   "source": [
    "Se puede ver que los review son exactamente los mismos para cada registro, por lo que se decide borrar los duplicados, dejando la primer ocurrencia de los registros."
   ]
  },
  {
   "cell_type": "code",
   "execution_count": null,
   "metadata": {},
   "outputs": [
    {
     "data": {
      "text/plain": [
       "'No hay duplicados'"
      ]
     },
     "execution_count": 26,
     "metadata": {},
     "output_type": "execute_result"
    }
   ],
   "source": [
    "df_user_reviews = df_user_reviews.drop_duplicates(subset='user_id', keep='first')\n",
    "FP.verifica_duplicados_por_columna(df_user_reviews, 'user_id')"
   ]
  },
  {
   "cell_type": "markdown",
   "metadata": {},
   "source": [
    "### 3.2.4.- Datos incorrectos o irrelevantes"
   ]
  },
  {
   "cell_type": "markdown",
   "metadata": {},
   "source": [
    "* En una primera instancia, hasta el momento no hay columnas por eliminar.\n",
    "* La columna reviews al ser una columna anidada, podría contener información valiosa como también irrelevante, por lo que requiere un análisis más profundo que se abordará en el siguiente punto."
   ]
  },
  {
   "cell_type": "markdown",
   "metadata": {},
   "source": [
    "### 3.2.5.- Datos categóricos"
   ]
  },
  {
   "cell_type": "markdown",
   "metadata": {},
   "source": [
    "#### 3.2.5.1 Columna 'reviews'"
   ]
  },
  {
   "cell_type": "markdown",
   "metadata": {},
   "source": [
    "La columna 'reviews' se presenta anidada, siendo una lista con uno o mas diccionarios como elementos. Se busca generar una columna por cada diccionario para posteriormente hacer un registro por cada diccionario."
   ]
  },
  {
   "cell_type": "code",
   "execution_count": null,
   "metadata": {},
   "outputs": [
    {
     "data": {
      "text/html": [
       "<div>\n",
       "<style scoped>\n",
       "    .dataframe tbody tr th:only-of-type {\n",
       "        vertical-align: middle;\n",
       "    }\n",
       "\n",
       "    .dataframe tbody tr th {\n",
       "        vertical-align: top;\n",
       "    }\n",
       "\n",
       "    .dataframe thead th {\n",
       "        text-align: right;\n",
       "    }\n",
       "</style>\n",
       "<table border=\"1\" class=\"dataframe\">\n",
       "  <thead>\n",
       "    <tr style=\"text-align: right;\">\n",
       "      <th></th>\n",
       "      <th>0</th>\n",
       "      <th>1</th>\n",
       "      <th>2</th>\n",
       "      <th>3</th>\n",
       "      <th>4</th>\n",
       "      <th>5</th>\n",
       "      <th>6</th>\n",
       "      <th>7</th>\n",
       "      <th>8</th>\n",
       "      <th>9</th>\n",
       "    </tr>\n",
       "  </thead>\n",
       "  <tbody>\n",
       "    <tr>\n",
       "      <th>0</th>\n",
       "      <td>{'funny': '', 'posted': 'Posted November 5, 20...</td>\n",
       "      <td>{'funny': '', 'posted': 'Posted July 15, 2011....</td>\n",
       "      <td>{'funny': '', 'posted': 'Posted April 21, 2011...</td>\n",
       "      <td>None</td>\n",
       "      <td>None</td>\n",
       "      <td>None</td>\n",
       "      <td>None</td>\n",
       "      <td>None</td>\n",
       "      <td>None</td>\n",
       "      <td>None</td>\n",
       "    </tr>\n",
       "    <tr>\n",
       "      <th>1</th>\n",
       "      <td>{'funny': '', 'posted': 'Posted June 24, 2014....</td>\n",
       "      <td>{'funny': '', 'posted': 'Posted September 8, 2...</td>\n",
       "      <td>{'funny': '', 'posted': 'Posted November 29, 2...</td>\n",
       "      <td>None</td>\n",
       "      <td>None</td>\n",
       "      <td>None</td>\n",
       "      <td>None</td>\n",
       "      <td>None</td>\n",
       "      <td>None</td>\n",
       "      <td>None</td>\n",
       "    </tr>\n",
       "    <tr>\n",
       "      <th>2</th>\n",
       "      <td>{'funny': '', 'posted': 'Posted February 3.', ...</td>\n",
       "      <td>{'funny': '', 'posted': 'Posted December 4, 20...</td>\n",
       "      <td>{'funny': '', 'posted': 'Posted November 3, 20...</td>\n",
       "      <td>{'funny': '', 'posted': 'Posted October 15, 20...</td>\n",
       "      <td>{'funny': '', 'posted': 'Posted October 15, 20...</td>\n",
       "      <td>{'funny': '', 'posted': 'Posted October 15, 20...</td>\n",
       "      <td>None</td>\n",
       "      <td>None</td>\n",
       "      <td>None</td>\n",
       "      <td>None</td>\n",
       "    </tr>\n",
       "    <tr>\n",
       "      <th>3</th>\n",
       "      <td>{'funny': '', 'posted': 'Posted October 14, 20...</td>\n",
       "      <td>{'funny': '', 'posted': 'Posted July 28, 2012....</td>\n",
       "      <td>{'funny': '', 'posted': 'Posted June 2, 2012.'...</td>\n",
       "      <td>{'funny': '', 'posted': 'Posted June 29, 2014....</td>\n",
       "      <td>{'funny': '', 'posted': 'Posted November 22, 2...</td>\n",
       "      <td>{'funny': '', 'posted': 'Posted February 23, 2...</td>\n",
       "      <td>None</td>\n",
       "      <td>None</td>\n",
       "      <td>None</td>\n",
       "      <td>None</td>\n",
       "    </tr>\n",
       "    <tr>\n",
       "      <th>4</th>\n",
       "      <td>{'funny': '3 people found this review funny', ...</td>\n",
       "      <td>{'funny': '1 person found this review funny', ...</td>\n",
       "      <td>{'funny': '2 people found this review funny', ...</td>\n",
       "      <td>{'funny': '', 'posted': 'Posted July 11, 2013....</td>\n",
       "      <td>None</td>\n",
       "      <td>None</td>\n",
       "      <td>None</td>\n",
       "      <td>None</td>\n",
       "      <td>None</td>\n",
       "      <td>None</td>\n",
       "    </tr>\n",
       "  </tbody>\n",
       "</table>\n",
       "</div>"
      ],
      "text/plain": [
       "                                                   0  \\\n",
       "0  {'funny': '', 'posted': 'Posted November 5, 20...   \n",
       "1  {'funny': '', 'posted': 'Posted June 24, 2014....   \n",
       "2  {'funny': '', 'posted': 'Posted February 3.', ...   \n",
       "3  {'funny': '', 'posted': 'Posted October 14, 20...   \n",
       "4  {'funny': '3 people found this review funny', ...   \n",
       "\n",
       "                                                   1  \\\n",
       "0  {'funny': '', 'posted': 'Posted July 15, 2011....   \n",
       "1  {'funny': '', 'posted': 'Posted September 8, 2...   \n",
       "2  {'funny': '', 'posted': 'Posted December 4, 20...   \n",
       "3  {'funny': '', 'posted': 'Posted July 28, 2012....   \n",
       "4  {'funny': '1 person found this review funny', ...   \n",
       "\n",
       "                                                   2  \\\n",
       "0  {'funny': '', 'posted': 'Posted April 21, 2011...   \n",
       "1  {'funny': '', 'posted': 'Posted November 29, 2...   \n",
       "2  {'funny': '', 'posted': 'Posted November 3, 20...   \n",
       "3  {'funny': '', 'posted': 'Posted June 2, 2012.'...   \n",
       "4  {'funny': '2 people found this review funny', ...   \n",
       "\n",
       "                                                   3  \\\n",
       "0                                               None   \n",
       "1                                               None   \n",
       "2  {'funny': '', 'posted': 'Posted October 15, 20...   \n",
       "3  {'funny': '', 'posted': 'Posted June 29, 2014....   \n",
       "4  {'funny': '', 'posted': 'Posted July 11, 2013....   \n",
       "\n",
       "                                                   4  \\\n",
       "0                                               None   \n",
       "1                                               None   \n",
       "2  {'funny': '', 'posted': 'Posted October 15, 20...   \n",
       "3  {'funny': '', 'posted': 'Posted November 22, 2...   \n",
       "4                                               None   \n",
       "\n",
       "                                                   5     6     7     8     9  \n",
       "0                                               None  None  None  None  None  \n",
       "1                                               None  None  None  None  None  \n",
       "2  {'funny': '', 'posted': 'Posted October 15, 20...  None  None  None  None  \n",
       "3  {'funny': '', 'posted': 'Posted February 23, 2...  None  None  None  None  \n",
       "4                                               None  None  None  None  None  "
      ]
     },
     "execution_count": 30,
     "metadata": {},
     "output_type": "execute_result"
    }
   ],
   "source": [
    "# Se transforma a columnas cada elemento de las listas\n",
    "df_review_lista = pd.json_normalize(df_user_reviews['reviews'])\n",
    "df_review_lista.head()"
   ]
  },
  {
   "cell_type": "markdown",
   "metadata": {},
   "source": [
    "En esta transformación, se pierde el 'user_id' y 'user_url' al que pertenece cada diccionario, pero aún mantiene la misma posición. Para volver a tener la trazabilidad del usuario, se concatena con el dataframe anterior."
   ]
  },
  {
   "cell_type": "code",
   "execution_count": null,
   "metadata": {},
   "outputs": [
    {
     "data": {
      "text/html": [
       "<div>\n",
       "<style scoped>\n",
       "    .dataframe tbody tr th:only-of-type {\n",
       "        vertical-align: middle;\n",
       "    }\n",
       "\n",
       "    .dataframe tbody tr th {\n",
       "        vertical-align: top;\n",
       "    }\n",
       "\n",
       "    .dataframe thead th {\n",
       "        text-align: right;\n",
       "    }\n",
       "</style>\n",
       "<table border=\"1\" class=\"dataframe\">\n",
       "  <thead>\n",
       "    <tr style=\"text-align: right;\">\n",
       "      <th></th>\n",
       "      <th>user_id</th>\n",
       "      <th>user_url</th>\n",
       "      <th>0</th>\n",
       "      <th>1</th>\n",
       "      <th>2</th>\n",
       "      <th>3</th>\n",
       "      <th>4</th>\n",
       "      <th>5</th>\n",
       "      <th>6</th>\n",
       "      <th>7</th>\n",
       "      <th>8</th>\n",
       "      <th>9</th>\n",
       "    </tr>\n",
       "  </thead>\n",
       "  <tbody>\n",
       "    <tr>\n",
       "      <th>0</th>\n",
       "      <td>76561197970982479</td>\n",
       "      <td>http://steamcommunity.com/profiles/76561197970...</td>\n",
       "      <td>{'funny': '', 'posted': 'Posted November 5, 20...</td>\n",
       "      <td>{'funny': '', 'posted': 'Posted July 15, 2011....</td>\n",
       "      <td>{'funny': '', 'posted': 'Posted April 21, 2011...</td>\n",
       "      <td>None</td>\n",
       "      <td>None</td>\n",
       "      <td>None</td>\n",
       "      <td>None</td>\n",
       "      <td>None</td>\n",
       "      <td>None</td>\n",
       "      <td>None</td>\n",
       "    </tr>\n",
       "    <tr>\n",
       "      <th>1</th>\n",
       "      <td>js41637</td>\n",
       "      <td>http://steamcommunity.com/id/js41637</td>\n",
       "      <td>{'funny': '', 'posted': 'Posted June 24, 2014....</td>\n",
       "      <td>{'funny': '', 'posted': 'Posted September 8, 2...</td>\n",
       "      <td>{'funny': '', 'posted': 'Posted November 29, 2...</td>\n",
       "      <td>None</td>\n",
       "      <td>None</td>\n",
       "      <td>None</td>\n",
       "      <td>None</td>\n",
       "      <td>None</td>\n",
       "      <td>None</td>\n",
       "      <td>None</td>\n",
       "    </tr>\n",
       "    <tr>\n",
       "      <th>2</th>\n",
       "      <td>evcentric</td>\n",
       "      <td>http://steamcommunity.com/id/evcentric</td>\n",
       "      <td>{'funny': '', 'posted': 'Posted February 3.', ...</td>\n",
       "      <td>{'funny': '', 'posted': 'Posted December 4, 20...</td>\n",
       "      <td>{'funny': '', 'posted': 'Posted November 3, 20...</td>\n",
       "      <td>{'funny': '', 'posted': 'Posted October 15, 20...</td>\n",
       "      <td>{'funny': '', 'posted': 'Posted October 15, 20...</td>\n",
       "      <td>{'funny': '', 'posted': 'Posted October 15, 20...</td>\n",
       "      <td>None</td>\n",
       "      <td>None</td>\n",
       "      <td>None</td>\n",
       "      <td>None</td>\n",
       "    </tr>\n",
       "    <tr>\n",
       "      <th>3</th>\n",
       "      <td>doctr</td>\n",
       "      <td>http://steamcommunity.com/id/doctr</td>\n",
       "      <td>{'funny': '', 'posted': 'Posted October 14, 20...</td>\n",
       "      <td>{'funny': '', 'posted': 'Posted July 28, 2012....</td>\n",
       "      <td>{'funny': '', 'posted': 'Posted June 2, 2012.'...</td>\n",
       "      <td>{'funny': '', 'posted': 'Posted June 29, 2014....</td>\n",
       "      <td>{'funny': '', 'posted': 'Posted November 22, 2...</td>\n",
       "      <td>{'funny': '', 'posted': 'Posted February 23, 2...</td>\n",
       "      <td>None</td>\n",
       "      <td>None</td>\n",
       "      <td>None</td>\n",
       "      <td>None</td>\n",
       "    </tr>\n",
       "    <tr>\n",
       "      <th>4</th>\n",
       "      <td>maplemage</td>\n",
       "      <td>http://steamcommunity.com/id/maplemage</td>\n",
       "      <td>{'funny': '3 people found this review funny', ...</td>\n",
       "      <td>{'funny': '1 person found this review funny', ...</td>\n",
       "      <td>{'funny': '2 people found this review funny', ...</td>\n",
       "      <td>{'funny': '', 'posted': 'Posted July 11, 2013....</td>\n",
       "      <td>None</td>\n",
       "      <td>None</td>\n",
       "      <td>None</td>\n",
       "      <td>None</td>\n",
       "      <td>None</td>\n",
       "      <td>None</td>\n",
       "    </tr>\n",
       "  </tbody>\n",
       "</table>\n",
       "</div>"
      ],
      "text/plain": [
       "             user_id                                           user_url  \\\n",
       "0  76561197970982479  http://steamcommunity.com/profiles/76561197970...   \n",
       "1            js41637               http://steamcommunity.com/id/js41637   \n",
       "2          evcentric             http://steamcommunity.com/id/evcentric   \n",
       "3              doctr                 http://steamcommunity.com/id/doctr   \n",
       "4          maplemage             http://steamcommunity.com/id/maplemage   \n",
       "\n",
       "                                                   0  \\\n",
       "0  {'funny': '', 'posted': 'Posted November 5, 20...   \n",
       "1  {'funny': '', 'posted': 'Posted June 24, 2014....   \n",
       "2  {'funny': '', 'posted': 'Posted February 3.', ...   \n",
       "3  {'funny': '', 'posted': 'Posted October 14, 20...   \n",
       "4  {'funny': '3 people found this review funny', ...   \n",
       "\n",
       "                                                   1  \\\n",
       "0  {'funny': '', 'posted': 'Posted July 15, 2011....   \n",
       "1  {'funny': '', 'posted': 'Posted September 8, 2...   \n",
       "2  {'funny': '', 'posted': 'Posted December 4, 20...   \n",
       "3  {'funny': '', 'posted': 'Posted July 28, 2012....   \n",
       "4  {'funny': '1 person found this review funny', ...   \n",
       "\n",
       "                                                   2  \\\n",
       "0  {'funny': '', 'posted': 'Posted April 21, 2011...   \n",
       "1  {'funny': '', 'posted': 'Posted November 29, 2...   \n",
       "2  {'funny': '', 'posted': 'Posted November 3, 20...   \n",
       "3  {'funny': '', 'posted': 'Posted June 2, 2012.'...   \n",
       "4  {'funny': '2 people found this review funny', ...   \n",
       "\n",
       "                                                   3  \\\n",
       "0                                               None   \n",
       "1                                               None   \n",
       "2  {'funny': '', 'posted': 'Posted October 15, 20...   \n",
       "3  {'funny': '', 'posted': 'Posted June 29, 2014....   \n",
       "4  {'funny': '', 'posted': 'Posted July 11, 2013....   \n",
       "\n",
       "                                                   4  \\\n",
       "0                                               None   \n",
       "1                                               None   \n",
       "2  {'funny': '', 'posted': 'Posted October 15, 20...   \n",
       "3  {'funny': '', 'posted': 'Posted November 22, 2...   \n",
       "4                                               None   \n",
       "\n",
       "                                                   5     6     7     8     9  \n",
       "0                                               None  None  None  None  None  \n",
       "1                                               None  None  None  None  None  \n",
       "2  {'funny': '', 'posted': 'Posted October 15, 20...  None  None  None  None  \n",
       "3  {'funny': '', 'posted': 'Posted February 23, 2...  None  None  None  None  \n",
       "4                                               None  None  None  None  None  "
      ]
     },
     "execution_count": 31,
     "metadata": {},
     "output_type": "execute_result"
    }
   ],
   "source": [
    "# Se agrega el 'user_id' y 'user_url' a las columnas separadas \n",
    "df_review_lista = pd.concat([df_user_reviews[['user_id', 'user_url']], df_review_lista], axis=1)\n",
    "df_review_lista.head()"
   ]
  },
  {
   "cell_type": "markdown",
   "metadata": {},
   "source": [
    "Ahora que se tienen los diccionarios por columnas, con el usuario que genera dicha información, se genera un registro por cada diccionario, manteniendo en cada caso el usuario que lo genera."
   ]
  },
  {
   "cell_type": "code",
   "execution_count": null,
   "metadata": {},
   "outputs": [
    {
     "data": {
      "text/html": [
       "<div>\n",
       "<style scoped>\n",
       "    .dataframe tbody tr th:only-of-type {\n",
       "        vertical-align: middle;\n",
       "    }\n",
       "\n",
       "    .dataframe tbody tr th {\n",
       "        vertical-align: top;\n",
       "    }\n",
       "\n",
       "    .dataframe thead th {\n",
       "        text-align: right;\n",
       "    }\n",
       "</style>\n",
       "<table border=\"1\" class=\"dataframe\">\n",
       "  <thead>\n",
       "    <tr style=\"text-align: right;\">\n",
       "      <th></th>\n",
       "      <th>user_id</th>\n",
       "      <th>user_url</th>\n",
       "      <th>variable</th>\n",
       "      <th>reviews</th>\n",
       "    </tr>\n",
       "  </thead>\n",
       "  <tbody>\n",
       "    <tr>\n",
       "      <th>0</th>\n",
       "      <td>76561197970982479</td>\n",
       "      <td>http://steamcommunity.com/profiles/76561197970...</td>\n",
       "      <td>0</td>\n",
       "      <td>{'funny': '', 'posted': 'Posted November 5, 20...</td>\n",
       "    </tr>\n",
       "    <tr>\n",
       "      <th>1</th>\n",
       "      <td>js41637</td>\n",
       "      <td>http://steamcommunity.com/id/js41637</td>\n",
       "      <td>0</td>\n",
       "      <td>{'funny': '', 'posted': 'Posted June 24, 2014....</td>\n",
       "    </tr>\n",
       "    <tr>\n",
       "      <th>2</th>\n",
       "      <td>evcentric</td>\n",
       "      <td>http://steamcommunity.com/id/evcentric</td>\n",
       "      <td>0</td>\n",
       "      <td>{'funny': '', 'posted': 'Posted February 3.', ...</td>\n",
       "    </tr>\n",
       "    <tr>\n",
       "      <th>3</th>\n",
       "      <td>doctr</td>\n",
       "      <td>http://steamcommunity.com/id/doctr</td>\n",
       "      <td>0</td>\n",
       "      <td>{'funny': '', 'posted': 'Posted October 14, 20...</td>\n",
       "    </tr>\n",
       "    <tr>\n",
       "      <th>4</th>\n",
       "      <td>maplemage</td>\n",
       "      <td>http://steamcommunity.com/id/maplemage</td>\n",
       "      <td>0</td>\n",
       "      <td>{'funny': '3 people found this review funny', ...</td>\n",
       "    </tr>\n",
       "  </tbody>\n",
       "</table>\n",
       "</div>"
      ],
      "text/plain": [
       "             user_id                                           user_url  \\\n",
       "0  76561197970982479  http://steamcommunity.com/profiles/76561197970...   \n",
       "1            js41637               http://steamcommunity.com/id/js41637   \n",
       "2          evcentric             http://steamcommunity.com/id/evcentric   \n",
       "3              doctr                 http://steamcommunity.com/id/doctr   \n",
       "4          maplemage             http://steamcommunity.com/id/maplemage   \n",
       "\n",
       "  variable                                            reviews  \n",
       "0        0  {'funny': '', 'posted': 'Posted November 5, 20...  \n",
       "1        0  {'funny': '', 'posted': 'Posted June 24, 2014....  \n",
       "2        0  {'funny': '', 'posted': 'Posted February 3.', ...  \n",
       "3        0  {'funny': '', 'posted': 'Posted October 14, 20...  \n",
       "4        0  {'funny': '3 people found this review funny', ...  "
      ]
     },
     "execution_count": 33,
     "metadata": {},
     "output_type": "execute_result"
    }
   ],
   "source": [
    "# Se utiliza pd.melt para transformar las columnas en filas conservando el 'user_id' y 'user_url'\n",
    "df_review_lista = pd.melt(df_review_lista, id_vars=['user_id', 'user_url'], \n",
    "                       value_vars=list(range(9)),\n",
    "                       value_name='reviews')\n",
    "df_review_lista.head()"
   ]
  },
  {
   "cell_type": "markdown",
   "metadata": {},
   "source": [
    "Al hacer esto último se puede ver que quedan registros None. Esto ocurre porque hay usuarios que hicieron mas reviews que otros. En este ejemplo se puede ver este caso"
   ]
  },
  {
   "cell_type": "code",
   "execution_count": null,
   "metadata": {},
   "outputs": [
    {
     "data": {
      "text/html": [
       "<div>\n",
       "<style scoped>\n",
       "    .dataframe tbody tr th:only-of-type {\n",
       "        vertical-align: middle;\n",
       "    }\n",
       "\n",
       "    .dataframe tbody tr th {\n",
       "        vertical-align: top;\n",
       "    }\n",
       "\n",
       "    .dataframe thead th {\n",
       "        text-align: right;\n",
       "    }\n",
       "</style>\n",
       "<table border=\"1\" class=\"dataframe\">\n",
       "  <thead>\n",
       "    <tr style=\"text-align: right;\">\n",
       "      <th></th>\n",
       "      <th>user_id</th>\n",
       "      <th>user_url</th>\n",
       "      <th>variable</th>\n",
       "      <th>reviews</th>\n",
       "    </tr>\n",
       "  </thead>\n",
       "  <tbody>\n",
       "    <tr>\n",
       "      <th>1</th>\n",
       "      <td>js41637</td>\n",
       "      <td>http://steamcommunity.com/id/js41637</td>\n",
       "      <td>0</td>\n",
       "      <td>{'funny': '', 'posted': 'Posted June 24, 2014....</td>\n",
       "    </tr>\n",
       "    <tr>\n",
       "      <th>25800</th>\n",
       "      <td>js41637</td>\n",
       "      <td>http://steamcommunity.com/id/js41637</td>\n",
       "      <td>1</td>\n",
       "      <td>{'funny': '', 'posted': 'Posted September 8, 2...</td>\n",
       "    </tr>\n",
       "    <tr>\n",
       "      <th>51599</th>\n",
       "      <td>js41637</td>\n",
       "      <td>http://steamcommunity.com/id/js41637</td>\n",
       "      <td>2</td>\n",
       "      <td>{'funny': '', 'posted': 'Posted November 29, 2...</td>\n",
       "    </tr>\n",
       "    <tr>\n",
       "      <th>77398</th>\n",
       "      <td>js41637</td>\n",
       "      <td>http://steamcommunity.com/id/js41637</td>\n",
       "      <td>3</td>\n",
       "      <td>None</td>\n",
       "    </tr>\n",
       "    <tr>\n",
       "      <th>103197</th>\n",
       "      <td>js41637</td>\n",
       "      <td>http://steamcommunity.com/id/js41637</td>\n",
       "      <td>4</td>\n",
       "      <td>None</td>\n",
       "    </tr>\n",
       "    <tr>\n",
       "      <th>128996</th>\n",
       "      <td>js41637</td>\n",
       "      <td>http://steamcommunity.com/id/js41637</td>\n",
       "      <td>5</td>\n",
       "      <td>None</td>\n",
       "    </tr>\n",
       "    <tr>\n",
       "      <th>154795</th>\n",
       "      <td>js41637</td>\n",
       "      <td>http://steamcommunity.com/id/js41637</td>\n",
       "      <td>6</td>\n",
       "      <td>None</td>\n",
       "    </tr>\n",
       "    <tr>\n",
       "      <th>180594</th>\n",
       "      <td>js41637</td>\n",
       "      <td>http://steamcommunity.com/id/js41637</td>\n",
       "      <td>7</td>\n",
       "      <td>None</td>\n",
       "    </tr>\n",
       "    <tr>\n",
       "      <th>206393</th>\n",
       "      <td>js41637</td>\n",
       "      <td>http://steamcommunity.com/id/js41637</td>\n",
       "      <td>8</td>\n",
       "      <td>None</td>\n",
       "    </tr>\n",
       "  </tbody>\n",
       "</table>\n",
       "</div>"
      ],
      "text/plain": [
       "        user_id                              user_url variable  \\\n",
       "1       js41637  http://steamcommunity.com/id/js41637        0   \n",
       "25800   js41637  http://steamcommunity.com/id/js41637        1   \n",
       "51599   js41637  http://steamcommunity.com/id/js41637        2   \n",
       "77398   js41637  http://steamcommunity.com/id/js41637        3   \n",
       "103197  js41637  http://steamcommunity.com/id/js41637        4   \n",
       "128996  js41637  http://steamcommunity.com/id/js41637        5   \n",
       "154795  js41637  http://steamcommunity.com/id/js41637        6   \n",
       "180594  js41637  http://steamcommunity.com/id/js41637        7   \n",
       "206393  js41637  http://steamcommunity.com/id/js41637        8   \n",
       "\n",
       "                                                  reviews  \n",
       "1       {'funny': '', 'posted': 'Posted June 24, 2014....  \n",
       "25800   {'funny': '', 'posted': 'Posted September 8, 2...  \n",
       "51599   {'funny': '', 'posted': 'Posted November 29, 2...  \n",
       "77398                                                None  \n",
       "103197                                               None  \n",
       "128996                                               None  \n",
       "154795                                               None  \n",
       "180594                                               None  \n",
       "206393                                               None  "
      ]
     },
     "execution_count": 38,
     "metadata": {},
     "output_type": "execute_result"
    }
   ],
   "source": [
    "df_review_lista[df_review_lista['user_id']=='js41637']"
   ]
  },
  {
   "cell_type": "markdown",
   "metadata": {},
   "source": [
    "Finalmente se buscará eliminar los registros que tienen None en \"reviews\""
   ]
  },
  {
   "cell_type": "code",
   "execution_count": null,
   "metadata": {},
   "outputs": [],
   "source": [
    "df_review_lista = df_review_lista.dropna()"
   ]
  },
  {
   "cell_type": "markdown",
   "metadata": {},
   "source": [
    "Ahora podemos convertir los diccionarios dentro de la fila en columnas independientes"
   ]
  },
  {
   "cell_type": "code",
   "execution_count": null,
   "metadata": {},
   "outputs": [
    {
     "data": {
      "text/html": [
       "<div>\n",
       "<style scoped>\n",
       "    .dataframe tbody tr th:only-of-type {\n",
       "        vertical-align: middle;\n",
       "    }\n",
       "\n",
       "    .dataframe tbody tr th {\n",
       "        vertical-align: top;\n",
       "    }\n",
       "\n",
       "    .dataframe thead th {\n",
       "        text-align: right;\n",
       "    }\n",
       "</style>\n",
       "<table border=\"1\" class=\"dataframe\">\n",
       "  <thead>\n",
       "    <tr style=\"text-align: right;\">\n",
       "      <th></th>\n",
       "      <th>reviews_funny</th>\n",
       "      <th>reviews_posted</th>\n",
       "      <th>reviews_last_edited</th>\n",
       "      <th>reviews_item_id</th>\n",
       "      <th>reviews_helpful</th>\n",
       "      <th>reviews_recommend</th>\n",
       "      <th>reviews_review</th>\n",
       "    </tr>\n",
       "  </thead>\n",
       "  <tbody>\n",
       "    <tr>\n",
       "      <th>0</th>\n",
       "      <td></td>\n",
       "      <td>Posted November 5, 2011.</td>\n",
       "      <td></td>\n",
       "      <td>1250</td>\n",
       "      <td>No ratings yet</td>\n",
       "      <td>True</td>\n",
       "      <td>Simple yet with great replayability. In my opi...</td>\n",
       "    </tr>\n",
       "    <tr>\n",
       "      <th>1</th>\n",
       "      <td></td>\n",
       "      <td>Posted June 24, 2014.</td>\n",
       "      <td></td>\n",
       "      <td>251610</td>\n",
       "      <td>15 of 20 people (75%) found this review helpful</td>\n",
       "      <td>True</td>\n",
       "      <td>I know what you think when you see this title ...</td>\n",
       "    </tr>\n",
       "    <tr>\n",
       "      <th>2</th>\n",
       "      <td></td>\n",
       "      <td>Posted February 3.</td>\n",
       "      <td></td>\n",
       "      <td>248820</td>\n",
       "      <td>No ratings yet</td>\n",
       "      <td>True</td>\n",
       "      <td>A suitably punishing roguelike platformer.  Wi...</td>\n",
       "    </tr>\n",
       "    <tr>\n",
       "      <th>3</th>\n",
       "      <td></td>\n",
       "      <td>Posted October 14, 2013.</td>\n",
       "      <td></td>\n",
       "      <td>250320</td>\n",
       "      <td>2 of 2 people (100%) found this review helpful</td>\n",
       "      <td>True</td>\n",
       "      <td>This game... is so fun. The fight sequences ha...</td>\n",
       "    </tr>\n",
       "    <tr>\n",
       "      <th>4</th>\n",
       "      <td>3 people found this review funny</td>\n",
       "      <td>Posted April 15, 2014.</td>\n",
       "      <td></td>\n",
       "      <td>211420</td>\n",
       "      <td>35 of 43 people (81%) found this review helpful</td>\n",
       "      <td>True</td>\n",
       "      <td>Git gud</td>\n",
       "    </tr>\n",
       "  </tbody>\n",
       "</table>\n",
       "</div>"
      ],
      "text/plain": [
       "                      reviews_funny            reviews_posted  \\\n",
       "0                                    Posted November 5, 2011.   \n",
       "1                                       Posted June 24, 2014.   \n",
       "2                                          Posted February 3.   \n",
       "3                                    Posted October 14, 2013.   \n",
       "4  3 people found this review funny    Posted April 15, 2014.   \n",
       "\n",
       "  reviews_last_edited reviews_item_id  \\\n",
       "0                                1250   \n",
       "1                              251610   \n",
       "2                              248820   \n",
       "3                              250320   \n",
       "4                              211420   \n",
       "\n",
       "                                   reviews_helpful  reviews_recommend  \\\n",
       "0                                   No ratings yet               True   \n",
       "1  15 of 20 people (75%) found this review helpful               True   \n",
       "2                                   No ratings yet               True   \n",
       "3   2 of 2 people (100%) found this review helpful               True   \n",
       "4  35 of 43 people (81%) found this review helpful               True   \n",
       "\n",
       "                                      reviews_review  \n",
       "0  Simple yet with great replayability. In my opi...  \n",
       "1  I know what you think when you see this title ...  \n",
       "2  A suitably punishing roguelike platformer.  Wi...  \n",
       "3  This game... is so fun. The fight sequences ha...  \n",
       "4                                            Git gud  "
      ]
     },
     "execution_count": 40,
     "metadata": {},
     "output_type": "execute_result"
    }
   ],
   "source": [
    "# Se separan por columnas cada una de las claves de 'reviews'\n",
    "df_user_reviews = df_review_lista['reviews'].apply(pd.Series, dtype='object')\n",
    "df_user_reviews = df_user_reviews.add_prefix('reviews_')\n",
    "df_user_reviews.head()"
   ]
  },
  {
   "cell_type": "markdown",
   "metadata": {},
   "source": [
    "En el procesamiento anterior, se puede ver que la columna de 'user_id' y 'user_url' se perdió nuevamente, por lo que se vuelve a concatenar."
   ]
  },
  {
   "cell_type": "code",
   "execution_count": null,
   "metadata": {},
   "outputs": [
    {
     "data": {
      "text/html": [
       "<div>\n",
       "<style scoped>\n",
       "    .dataframe tbody tr th:only-of-type {\n",
       "        vertical-align: middle;\n",
       "    }\n",
       "\n",
       "    .dataframe tbody tr th {\n",
       "        vertical-align: top;\n",
       "    }\n",
       "\n",
       "    .dataframe thead th {\n",
       "        text-align: right;\n",
       "    }\n",
       "</style>\n",
       "<table border=\"1\" class=\"dataframe\">\n",
       "  <thead>\n",
       "    <tr style=\"text-align: right;\">\n",
       "      <th></th>\n",
       "      <th>user_id</th>\n",
       "      <th>user_url</th>\n",
       "      <th>reviews_funny</th>\n",
       "      <th>reviews_posted</th>\n",
       "      <th>reviews_last_edited</th>\n",
       "      <th>reviews_item_id</th>\n",
       "      <th>reviews_helpful</th>\n",
       "      <th>reviews_recommend</th>\n",
       "      <th>reviews_review</th>\n",
       "    </tr>\n",
       "  </thead>\n",
       "  <tbody>\n",
       "    <tr>\n",
       "      <th>0</th>\n",
       "      <td>76561197970982479</td>\n",
       "      <td>http://steamcommunity.com/profiles/76561197970...</td>\n",
       "      <td></td>\n",
       "      <td>Posted November 5, 2011.</td>\n",
       "      <td></td>\n",
       "      <td>1250</td>\n",
       "      <td>No ratings yet</td>\n",
       "      <td>True</td>\n",
       "      <td>Simple yet with great replayability. In my opi...</td>\n",
       "    </tr>\n",
       "    <tr>\n",
       "      <th>1</th>\n",
       "      <td>js41637</td>\n",
       "      <td>http://steamcommunity.com/id/js41637</td>\n",
       "      <td></td>\n",
       "      <td>Posted June 24, 2014.</td>\n",
       "      <td></td>\n",
       "      <td>251610</td>\n",
       "      <td>15 of 20 people (75%) found this review helpful</td>\n",
       "      <td>True</td>\n",
       "      <td>I know what you think when you see this title ...</td>\n",
       "    </tr>\n",
       "    <tr>\n",
       "      <th>2</th>\n",
       "      <td>evcentric</td>\n",
       "      <td>http://steamcommunity.com/id/evcentric</td>\n",
       "      <td></td>\n",
       "      <td>Posted February 3.</td>\n",
       "      <td></td>\n",
       "      <td>248820</td>\n",
       "      <td>No ratings yet</td>\n",
       "      <td>True</td>\n",
       "      <td>A suitably punishing roguelike platformer.  Wi...</td>\n",
       "    </tr>\n",
       "    <tr>\n",
       "      <th>3</th>\n",
       "      <td>doctr</td>\n",
       "      <td>http://steamcommunity.com/id/doctr</td>\n",
       "      <td></td>\n",
       "      <td>Posted October 14, 2013.</td>\n",
       "      <td></td>\n",
       "      <td>250320</td>\n",
       "      <td>2 of 2 people (100%) found this review helpful</td>\n",
       "      <td>True</td>\n",
       "      <td>This game... is so fun. The fight sequences ha...</td>\n",
       "    </tr>\n",
       "    <tr>\n",
       "      <th>4</th>\n",
       "      <td>maplemage</td>\n",
       "      <td>http://steamcommunity.com/id/maplemage</td>\n",
       "      <td>3 people found this review funny</td>\n",
       "      <td>Posted April 15, 2014.</td>\n",
       "      <td></td>\n",
       "      <td>211420</td>\n",
       "      <td>35 of 43 people (81%) found this review helpful</td>\n",
       "      <td>True</td>\n",
       "      <td>Git gud</td>\n",
       "    </tr>\n",
       "  </tbody>\n",
       "</table>\n",
       "</div>"
      ],
      "text/plain": [
       "             user_id                                           user_url  \\\n",
       "0  76561197970982479  http://steamcommunity.com/profiles/76561197970...   \n",
       "1            js41637               http://steamcommunity.com/id/js41637   \n",
       "2          evcentric             http://steamcommunity.com/id/evcentric   \n",
       "3              doctr                 http://steamcommunity.com/id/doctr   \n",
       "4          maplemage             http://steamcommunity.com/id/maplemage   \n",
       "\n",
       "                      reviews_funny            reviews_posted  \\\n",
       "0                                    Posted November 5, 2011.   \n",
       "1                                       Posted June 24, 2014.   \n",
       "2                                          Posted February 3.   \n",
       "3                                    Posted October 14, 2013.   \n",
       "4  3 people found this review funny    Posted April 15, 2014.   \n",
       "\n",
       "  reviews_last_edited reviews_item_id  \\\n",
       "0                                1250   \n",
       "1                              251610   \n",
       "2                              248820   \n",
       "3                              250320   \n",
       "4                              211420   \n",
       "\n",
       "                                   reviews_helpful  reviews_recommend  \\\n",
       "0                                   No ratings yet               True   \n",
       "1  15 of 20 people (75%) found this review helpful               True   \n",
       "2                                   No ratings yet               True   \n",
       "3   2 of 2 people (100%) found this review helpful               True   \n",
       "4  35 of 43 people (81%) found this review helpful               True   \n",
       "\n",
       "                                      reviews_review  \n",
       "0  Simple yet with great replayability. In my opi...  \n",
       "1  I know what you think when you see this title ...  \n",
       "2  A suitably punishing roguelike platformer.  Wi...  \n",
       "3  This game... is so fun. The fight sequences ha...  \n",
       "4                                            Git gud  "
      ]
     },
     "execution_count": 41,
     "metadata": {},
     "output_type": "execute_result"
    }
   ],
   "source": [
    "# Se une con el 'user_id' y 'user_url'\n",
    "df_user_reviews = pd.concat([df_review_lista[['user_id', 'user_url']], df_user_reviews], axis=1)\n",
    "df_user_reviews.head()"
   ]
  },
  {
   "cell_type": "markdown",
   "metadata": {},
   "source": [
    "**Importante:** Se observa que hay valores faltantes en algunas columnas, pero no estan como nulos, se inspeccionará a detalle"
   ]
  },
  {
   "cell_type": "code",
   "execution_count": null,
   "metadata": {},
   "outputs": [
    {
     "data": {
      "text/plain": [
       "''"
      ]
     },
     "execution_count": 44,
     "metadata": {},
     "output_type": "execute_result"
    }
   ],
   "source": [
    "df_user_reviews['reviews_last_edited'][3]"
   ]
  },
  {
   "cell_type": "markdown",
   "metadata": {},
   "source": [
    "Verificamos que se trata de datos que contienen un espacio, procedemos a reemplazarlo con None"
   ]
  },
  {
   "cell_type": "code",
   "execution_count": null,
   "metadata": {},
   "outputs": [
    {
     "data": {
      "text/html": [
       "<div>\n",
       "<style scoped>\n",
       "    .dataframe tbody tr th:only-of-type {\n",
       "        vertical-align: middle;\n",
       "    }\n",
       "\n",
       "    .dataframe tbody tr th {\n",
       "        vertical-align: top;\n",
       "    }\n",
       "\n",
       "    .dataframe thead th {\n",
       "        text-align: right;\n",
       "    }\n",
       "</style>\n",
       "<table border=\"1\" class=\"dataframe\">\n",
       "  <thead>\n",
       "    <tr style=\"text-align: right;\">\n",
       "      <th></th>\n",
       "      <th>user_id</th>\n",
       "      <th>user_url</th>\n",
       "      <th>reviews_funny</th>\n",
       "      <th>reviews_posted</th>\n",
       "      <th>reviews_last_edited</th>\n",
       "      <th>reviews_item_id</th>\n",
       "      <th>reviews_helpful</th>\n",
       "      <th>reviews_recommend</th>\n",
       "      <th>reviews_review</th>\n",
       "    </tr>\n",
       "  </thead>\n",
       "  <tbody>\n",
       "    <tr>\n",
       "      <th>0</th>\n",
       "      <td>76561197970982479</td>\n",
       "      <td>http://steamcommunity.com/profiles/76561197970...</td>\n",
       "      <td>None</td>\n",
       "      <td>Posted November 5, 2011.</td>\n",
       "      <td>None</td>\n",
       "      <td>1250</td>\n",
       "      <td>No ratings yet</td>\n",
       "      <td>True</td>\n",
       "      <td>Simple yet with great replayability. In my opi...</td>\n",
       "    </tr>\n",
       "    <tr>\n",
       "      <th>1</th>\n",
       "      <td>js41637</td>\n",
       "      <td>http://steamcommunity.com/id/js41637</td>\n",
       "      <td>None</td>\n",
       "      <td>Posted June 24, 2014.</td>\n",
       "      <td>None</td>\n",
       "      <td>251610</td>\n",
       "      <td>15 of 20 people (75%) found this review helpful</td>\n",
       "      <td>True</td>\n",
       "      <td>I know what you think when you see this title ...</td>\n",
       "    </tr>\n",
       "    <tr>\n",
       "      <th>2</th>\n",
       "      <td>evcentric</td>\n",
       "      <td>http://steamcommunity.com/id/evcentric</td>\n",
       "      <td>None</td>\n",
       "      <td>Posted February 3.</td>\n",
       "      <td>None</td>\n",
       "      <td>248820</td>\n",
       "      <td>No ratings yet</td>\n",
       "      <td>True</td>\n",
       "      <td>A suitably punishing roguelike platformer.  Wi...</td>\n",
       "    </tr>\n",
       "    <tr>\n",
       "      <th>3</th>\n",
       "      <td>doctr</td>\n",
       "      <td>http://steamcommunity.com/id/doctr</td>\n",
       "      <td>None</td>\n",
       "      <td>Posted October 14, 2013.</td>\n",
       "      <td>None</td>\n",
       "      <td>250320</td>\n",
       "      <td>2 of 2 people (100%) found this review helpful</td>\n",
       "      <td>True</td>\n",
       "      <td>This game... is so fun. The fight sequences ha...</td>\n",
       "    </tr>\n",
       "    <tr>\n",
       "      <th>4</th>\n",
       "      <td>maplemage</td>\n",
       "      <td>http://steamcommunity.com/id/maplemage</td>\n",
       "      <td>3 people found this review funny</td>\n",
       "      <td>Posted April 15, 2014.</td>\n",
       "      <td>None</td>\n",
       "      <td>211420</td>\n",
       "      <td>35 of 43 people (81%) found this review helpful</td>\n",
       "      <td>True</td>\n",
       "      <td>Git gud</td>\n",
       "    </tr>\n",
       "  </tbody>\n",
       "</table>\n",
       "</div>"
      ],
      "text/plain": [
       "             user_id                                           user_url  \\\n",
       "0  76561197970982479  http://steamcommunity.com/profiles/76561197970...   \n",
       "1            js41637               http://steamcommunity.com/id/js41637   \n",
       "2          evcentric             http://steamcommunity.com/id/evcentric   \n",
       "3              doctr                 http://steamcommunity.com/id/doctr   \n",
       "4          maplemage             http://steamcommunity.com/id/maplemage   \n",
       "\n",
       "                      reviews_funny            reviews_posted  \\\n",
       "0                              None  Posted November 5, 2011.   \n",
       "1                              None     Posted June 24, 2014.   \n",
       "2                              None        Posted February 3.   \n",
       "3                              None  Posted October 14, 2013.   \n",
       "4  3 people found this review funny    Posted April 15, 2014.   \n",
       "\n",
       "  reviews_last_edited reviews_item_id  \\\n",
       "0                None            1250   \n",
       "1                None          251610   \n",
       "2                None          248820   \n",
       "3                None          250320   \n",
       "4                None          211420   \n",
       "\n",
       "                                   reviews_helpful  reviews_recommend  \\\n",
       "0                                   No ratings yet               True   \n",
       "1  15 of 20 people (75%) found this review helpful               True   \n",
       "2                                   No ratings yet               True   \n",
       "3   2 of 2 people (100%) found this review helpful               True   \n",
       "4  35 of 43 people (81%) found this review helpful               True   \n",
       "\n",
       "                                      reviews_review  \n",
       "0  Simple yet with great replayability. In my opi...  \n",
       "1  I know what you think when you see this title ...  \n",
       "2  A suitably punishing roguelike platformer.  Wi...  \n",
       "3  This game... is so fun. The fight sequences ha...  \n",
       "4                                            Git gud  "
      ]
     },
     "execution_count": 45,
     "metadata": {},
     "output_type": "execute_result"
    }
   ],
   "source": [
    "df_user_reviews.replace('', None, inplace=True)\n",
    "df_user_reviews.head()"
   ]
  },
  {
   "cell_type": "markdown",
   "metadata": {},
   "source": [
    "Damos una última verificación para asegurar el correcto tratamiento a la columna 'user_reviews'"
   ]
  },
  {
   "cell_type": "code",
   "execution_count": null,
   "metadata": {},
   "outputs": [
    {
     "data": {
      "text/html": [
       "<div>\n",
       "<style scoped>\n",
       "    .dataframe tbody tr th:only-of-type {\n",
       "        vertical-align: middle;\n",
       "    }\n",
       "\n",
       "    .dataframe tbody tr th {\n",
       "        vertical-align: top;\n",
       "    }\n",
       "\n",
       "    .dataframe thead th {\n",
       "        text-align: right;\n",
       "    }\n",
       "</style>\n",
       "<table border=\"1\" class=\"dataframe\">\n",
       "  <thead>\n",
       "    <tr style=\"text-align: right;\">\n",
       "      <th></th>\n",
       "      <th>nombre_campo</th>\n",
       "      <th>tipo_datos</th>\n",
       "      <th>no_nulos_%</th>\n",
       "      <th>nulos_%</th>\n",
       "      <th>nulos</th>\n",
       "    </tr>\n",
       "  </thead>\n",
       "  <tbody>\n",
       "    <tr>\n",
       "      <th>0</th>\n",
       "      <td>user_id</td>\n",
       "      <td>[&lt;class 'str'&gt;]</td>\n",
       "      <td>100.00</td>\n",
       "      <td>0.00</td>\n",
       "      <td>0</td>\n",
       "    </tr>\n",
       "    <tr>\n",
       "      <th>1</th>\n",
       "      <td>user_url</td>\n",
       "      <td>[&lt;class 'str'&gt;]</td>\n",
       "      <td>100.00</td>\n",
       "      <td>0.00</td>\n",
       "      <td>0</td>\n",
       "    </tr>\n",
       "    <tr>\n",
       "      <th>2</th>\n",
       "      <td>reviews_funny</td>\n",
       "      <td>[&lt;class 'NoneType'&gt;, &lt;class 'str'&gt;]</td>\n",
       "      <td>13.76</td>\n",
       "      <td>86.24</td>\n",
       "      <td>49498</td>\n",
       "    </tr>\n",
       "    <tr>\n",
       "      <th>3</th>\n",
       "      <td>reviews_posted</td>\n",
       "      <td>[&lt;class 'str'&gt;]</td>\n",
       "      <td>100.00</td>\n",
       "      <td>0.00</td>\n",
       "      <td>0</td>\n",
       "    </tr>\n",
       "    <tr>\n",
       "      <th>4</th>\n",
       "      <td>reviews_last_edited</td>\n",
       "      <td>[&lt;class 'NoneType'&gt;, &lt;class 'str'&gt;]</td>\n",
       "      <td>10.28</td>\n",
       "      <td>89.72</td>\n",
       "      <td>51499</td>\n",
       "    </tr>\n",
       "    <tr>\n",
       "      <th>5</th>\n",
       "      <td>reviews_item_id</td>\n",
       "      <td>[&lt;class 'str'&gt;]</td>\n",
       "      <td>100.00</td>\n",
       "      <td>0.00</td>\n",
       "      <td>0</td>\n",
       "    </tr>\n",
       "    <tr>\n",
       "      <th>6</th>\n",
       "      <td>reviews_helpful</td>\n",
       "      <td>[&lt;class 'str'&gt;]</td>\n",
       "      <td>100.00</td>\n",
       "      <td>0.00</td>\n",
       "      <td>0</td>\n",
       "    </tr>\n",
       "    <tr>\n",
       "      <th>7</th>\n",
       "      <td>reviews_recommend</td>\n",
       "      <td>[&lt;class 'bool'&gt;]</td>\n",
       "      <td>100.00</td>\n",
       "      <td>0.00</td>\n",
       "      <td>0</td>\n",
       "    </tr>\n",
       "    <tr>\n",
       "      <th>8</th>\n",
       "      <td>reviews_review</td>\n",
       "      <td>[&lt;class 'str'&gt;, &lt;class 'NoneType'&gt;]</td>\n",
       "      <td>99.95</td>\n",
       "      <td>0.05</td>\n",
       "      <td>30</td>\n",
       "    </tr>\n",
       "  </tbody>\n",
       "</table>\n",
       "</div>"
      ],
      "text/plain": [
       "          nombre_campo                           tipo_datos  no_nulos_%  \\\n",
       "0              user_id                      [<class 'str'>]      100.00   \n",
       "1             user_url                      [<class 'str'>]      100.00   \n",
       "2        reviews_funny  [<class 'NoneType'>, <class 'str'>]       13.76   \n",
       "3       reviews_posted                      [<class 'str'>]      100.00   \n",
       "4  reviews_last_edited  [<class 'NoneType'>, <class 'str'>]       10.28   \n",
       "5      reviews_item_id                      [<class 'str'>]      100.00   \n",
       "6      reviews_helpful                      [<class 'str'>]      100.00   \n",
       "7    reviews_recommend                     [<class 'bool'>]      100.00   \n",
       "8       reviews_review  [<class 'str'>, <class 'NoneType'>]       99.95   \n",
       "\n",
       "   nulos_%  nulos  \n",
       "0     0.00      0  \n",
       "1     0.00      0  \n",
       "2    86.24  49498  \n",
       "3     0.00      0  \n",
       "4    89.72  51499  \n",
       "5     0.00      0  \n",
       "6     0.00      0  \n",
       "7     0.00      0  \n",
       "8     0.05     30  "
      ]
     },
     "execution_count": 46,
     "metadata": {},
     "output_type": "execute_result"
    }
   ],
   "source": [
    "FP.tabla_tipo_datos(df_user_reviews)"
   ]
  },
  {
   "cell_type": "markdown",
   "metadata": {},
   "source": [
    "#### 3.2.5.2 Columnas 'reviews_funny' y 'reviews_last_edited'"
   ]
  },
  {
   "cell_type": "markdown",
   "metadata": {},
   "source": [
    "**De la tabla anterior,** se observa entre un 86 a 89% de faltantes de datos en las columnas 'reviews_funny' y 'reviews_last_edited' por lo que se decide eliminar estas columnas."
   ]
  },
  {
   "cell_type": "code",
   "execution_count": null,
   "metadata": {},
   "outputs": [
    {
     "data": {
      "text/plain": [
       "Index(['user_id', 'user_url', 'reviews_posted', 'reviews_item_id',\n",
       "       'reviews_helpful', 'reviews_recommend', 'reviews_review'],\n",
       "      dtype='object')"
      ]
     },
     "execution_count": 47,
     "metadata": {},
     "output_type": "execute_result"
    }
   ],
   "source": [
    "# Se eliminan las columnas 'reviews_funny' y 'reviews_last_edited'\n",
    "df_user_reviews = df_user_reviews.drop(columns=['reviews_funny', 'reviews_last_edited'])\n",
    "df_user_reviews.columns"
   ]
  },
  {
   "cell_type": "markdown",
   "metadata": {},
   "source": [
    "#### 3.2.5.3 Columnas 'reviews_posted'"
   ]
  },
  {
   "cell_type": "markdown",
   "metadata": {},
   "source": [
    "La estrategia a tomar aquí es un cambio de formato, requerimos un formato de `YYYY-MM-DD`, pero se encuentra como `Posted June 24, 2014`. Por lo que vamos a recurrir con una transformación de la expresión regular en una columna nueva llamada `reviews_date`."
   ]
  },
  {
   "cell_type": "code",
   "execution_count": null,
   "metadata": {},
   "outputs": [
    {
     "data": {
      "text/plain": [
       "0               2011-11-05\n",
       "1               2014-06-24\n",
       "2         Formato inválido\n",
       "3               2013-10-14\n",
       "4               2014-04-15\n",
       "                ...       \n",
       "231291          2014-08-15\n",
       "231293          2014-08-02\n",
       "231419          2015-07-31\n",
       "231499          2015-12-20\n",
       "231501    Formato inválido\n",
       "Name: reviews_date, Length: 57397, dtype: object"
      ]
     },
     "execution_count": 48,
     "metadata": {},
     "output_type": "execute_result"
    }
   ],
   "source": [
    "df_user_reviews['reviews_date'] = df_user_reviews['reviews_posted'].apply(FP.convertir_fecha)\n",
    "df_user_reviews['reviews_date']"
   ]
  },
  {
   "cell_type": "code",
   "execution_count": null,
   "metadata": {},
   "outputs": [
    {
     "data": {
      "text/plain": [
       "reviews_date\n",
       "Formato inválido    9771\n",
       "2014-06-21           218\n",
       "2014-06-20           187\n",
       "2014-06-23           171\n",
       "2014-06-27           167\n",
       "                    ... \n",
       "2012-06-11             1\n",
       "2012-05-20             1\n",
       "2011-05-02             1\n",
       "2011-03-25             1\n",
       "2011-07-16             1\n",
       "Name: count, Length: 1639, dtype: int64"
      ]
     },
     "execution_count": 50,
     "metadata": {},
     "output_type": "execute_result"
    }
   ],
   "source": [
    "df_user_reviews['reviews_date'].value_counts()"
   ]
  },
  {
   "cell_type": "markdown",
   "metadata": {},
   "source": [
    "Se puede observar que hay 9771 registros que contienen un formato inválido distinto a los demas registros. En este caso, no contiene el año del posteo, pero con la función se imputó como 'Formato inválido'. Estos registros no se podrán consultar desde la API, pero las demás columnas serán útiles para aportar información."
   ]
  },
  {
   "cell_type": "code",
   "execution_count": null,
   "metadata": {},
   "outputs": [
    {
     "data": {
      "text/html": [
       "<div>\n",
       "<style scoped>\n",
       "    .dataframe tbody tr th:only-of-type {\n",
       "        vertical-align: middle;\n",
       "    }\n",
       "\n",
       "    .dataframe tbody tr th {\n",
       "        vertical-align: top;\n",
       "    }\n",
       "\n",
       "    .dataframe thead th {\n",
       "        text-align: right;\n",
       "    }\n",
       "</style>\n",
       "<table border=\"1\" class=\"dataframe\">\n",
       "  <thead>\n",
       "    <tr style=\"text-align: right;\">\n",
       "      <th></th>\n",
       "      <th>user_id</th>\n",
       "      <th>user_url</th>\n",
       "      <th>reviews_posted</th>\n",
       "      <th>reviews_item_id</th>\n",
       "      <th>reviews_helpful</th>\n",
       "      <th>reviews_recommend</th>\n",
       "      <th>reviews_review</th>\n",
       "      <th>reviews_date</th>\n",
       "    </tr>\n",
       "  </thead>\n",
       "  <tbody>\n",
       "    <tr>\n",
       "      <th>2</th>\n",
       "      <td>evcentric</td>\n",
       "      <td>http://steamcommunity.com/id/evcentric</td>\n",
       "      <td>Posted February 3.</td>\n",
       "      <td>248820</td>\n",
       "      <td>No ratings yet</td>\n",
       "      <td>True</td>\n",
       "      <td>A suitably punishing roguelike platformer.  Wi...</td>\n",
       "      <td>Formato inválido</td>\n",
       "    </tr>\n",
       "    <tr>\n",
       "      <th>6</th>\n",
       "      <td>76561198079601835</td>\n",
       "      <td>http://steamcommunity.com/profiles/76561198079...</td>\n",
       "      <td>Posted May 20.</td>\n",
       "      <td>730</td>\n",
       "      <td>0 of 1 people (0%) found this review helpful</td>\n",
       "      <td>True</td>\n",
       "      <td>ZIKA DO BAILE</td>\n",
       "      <td>Formato inválido</td>\n",
       "    </tr>\n",
       "    <tr>\n",
       "      <th>7</th>\n",
       "      <td>MeaTCompany</td>\n",
       "      <td>http://steamcommunity.com/id/MeaTCompany</td>\n",
       "      <td>Posted July 24.</td>\n",
       "      <td>730</td>\n",
       "      <td>No ratings yet</td>\n",
       "      <td>True</td>\n",
       "      <td>BEST GAME IN THE BLOODY WORLD</td>\n",
       "      <td>Formato inválido</td>\n",
       "    </tr>\n",
       "    <tr>\n",
       "      <th>9</th>\n",
       "      <td>76561198156664158</td>\n",
       "      <td>http://steamcommunity.com/profiles/76561198156...</td>\n",
       "      <td>Posted June 16.</td>\n",
       "      <td>252950</td>\n",
       "      <td>0 of 1 people (0%) found this review helpful</td>\n",
       "      <td>True</td>\n",
       "      <td>love it</td>\n",
       "      <td>Formato inválido</td>\n",
       "    </tr>\n",
       "    <tr>\n",
       "      <th>10</th>\n",
       "      <td>76561198077246154</td>\n",
       "      <td>http://steamcommunity.com/profiles/76561198077...</td>\n",
       "      <td>Posted June 11.</td>\n",
       "      <td>440</td>\n",
       "      <td>No ratings yet</td>\n",
       "      <td>True</td>\n",
       "      <td>mt bom</td>\n",
       "      <td>Formato inválido</td>\n",
       "    </tr>\n",
       "    <tr>\n",
       "      <th>...</th>\n",
       "      <td>...</td>\n",
       "      <td>...</td>\n",
       "      <td>...</td>\n",
       "      <td>...</td>\n",
       "      <td>...</td>\n",
       "      <td>...</td>\n",
       "      <td>...</td>\n",
       "      <td>...</td>\n",
       "    </tr>\n",
       "    <tr>\n",
       "      <th>223569</th>\n",
       "      <td>76561198040184950</td>\n",
       "      <td>http://steamcommunity.com/profiles/76561198040...</td>\n",
       "      <td>Posted April 12.</td>\n",
       "      <td>394690</td>\n",
       "      <td>No ratings yet</td>\n",
       "      <td>True</td>\n",
       "      <td>I cannot say much right now due to the game no...</td>\n",
       "      <td>Formato inválido</td>\n",
       "    </tr>\n",
       "    <tr>\n",
       "      <th>226105</th>\n",
       "      <td>76561198046474248</td>\n",
       "      <td>http://steamcommunity.com/profiles/76561198046...</td>\n",
       "      <td>Posted March 28.</td>\n",
       "      <td>234140</td>\n",
       "      <td>No ratings yet</td>\n",
       "      <td>True</td>\n",
       "      <td>Oh what a day .., What a lovely day to play th...</td>\n",
       "      <td>Formato inválido</td>\n",
       "    </tr>\n",
       "    <tr>\n",
       "      <th>228109</th>\n",
       "      <td>dmitry_who</td>\n",
       "      <td>http://steamcommunity.com/id/dmitry_who</td>\n",
       "      <td>Posted May 17.</td>\n",
       "      <td>376210</td>\n",
       "      <td>10 of 28 people (36%) found this review helpful</td>\n",
       "      <td>True</td>\n",
       "      <td>░░░░░░░░░░░█▀▀░░█░░░░░░░░░░░▄▀▀▀▀░░░░░█▄▄░░░░░...</td>\n",
       "      <td>Formato inválido</td>\n",
       "    </tr>\n",
       "    <tr>\n",
       "      <th>229231</th>\n",
       "      <td>76561198079507136</td>\n",
       "      <td>http://steamcommunity.com/profiles/76561198079...</td>\n",
       "      <td>Posted January 3.</td>\n",
       "      <td>730</td>\n",
       "      <td>No ratings yet</td>\n",
       "      <td>False</td>\n",
       "      <td>got VACed</td>\n",
       "      <td>Formato inválido</td>\n",
       "    </tr>\n",
       "    <tr>\n",
       "      <th>231501</th>\n",
       "      <td>EchoXSilence</td>\n",
       "      <td>http://steamcommunity.com/id/EchoXSilence</td>\n",
       "      <td>Posted February 3.</td>\n",
       "      <td>570</td>\n",
       "      <td>0 of 2 people (0%) found this review helpful</td>\n",
       "      <td>False</td>\n",
       "      <td>DOTA 2.normal skill - 2ez for me&gt;high skill - ...</td>\n",
       "      <td>Formato inválido</td>\n",
       "    </tr>\n",
       "  </tbody>\n",
       "</table>\n",
       "<p>9771 rows × 8 columns</p>\n",
       "</div>"
      ],
      "text/plain": [
       "                  user_id                                           user_url  \\\n",
       "2               evcentric             http://steamcommunity.com/id/evcentric   \n",
       "6       76561198079601835  http://steamcommunity.com/profiles/76561198079...   \n",
       "7             MeaTCompany           http://steamcommunity.com/id/MeaTCompany   \n",
       "9       76561198156664158  http://steamcommunity.com/profiles/76561198156...   \n",
       "10      76561198077246154  http://steamcommunity.com/profiles/76561198077...   \n",
       "...                   ...                                                ...   \n",
       "223569  76561198040184950  http://steamcommunity.com/profiles/76561198040...   \n",
       "226105  76561198046474248  http://steamcommunity.com/profiles/76561198046...   \n",
       "228109         dmitry_who            http://steamcommunity.com/id/dmitry_who   \n",
       "229231  76561198079507136  http://steamcommunity.com/profiles/76561198079...   \n",
       "231501       EchoXSilence          http://steamcommunity.com/id/EchoXSilence   \n",
       "\n",
       "            reviews_posted reviews_item_id  \\\n",
       "2       Posted February 3.          248820   \n",
       "6           Posted May 20.             730   \n",
       "7          Posted July 24.             730   \n",
       "9          Posted June 16.          252950   \n",
       "10         Posted June 11.             440   \n",
       "...                    ...             ...   \n",
       "223569    Posted April 12.          394690   \n",
       "226105    Posted March 28.          234140   \n",
       "228109      Posted May 17.          376210   \n",
       "229231   Posted January 3.             730   \n",
       "231501  Posted February 3.             570   \n",
       "\n",
       "                                        reviews_helpful  reviews_recommend  \\\n",
       "2                                        No ratings yet               True   \n",
       "6          0 of 1 people (0%) found this review helpful               True   \n",
       "7                                        No ratings yet               True   \n",
       "9          0 of 1 people (0%) found this review helpful               True   \n",
       "10                                       No ratings yet               True   \n",
       "...                                                 ...                ...   \n",
       "223569                                   No ratings yet               True   \n",
       "226105                                   No ratings yet               True   \n",
       "228109  10 of 28 people (36%) found this review helpful               True   \n",
       "229231                                   No ratings yet              False   \n",
       "231501     0 of 2 people (0%) found this review helpful              False   \n",
       "\n",
       "                                           reviews_review      reviews_date  \n",
       "2       A suitably punishing roguelike platformer.  Wi...  Formato inválido  \n",
       "6                                           ZIKA DO BAILE  Formato inválido  \n",
       "7                           BEST GAME IN THE BLOODY WORLD  Formato inválido  \n",
       "9                                                 love it  Formato inválido  \n",
       "10                                                 mt bom  Formato inválido  \n",
       "...                                                   ...               ...  \n",
       "223569  I cannot say much right now due to the game no...  Formato inválido  \n",
       "226105  Oh what a day .., What a lovely day to play th...  Formato inválido  \n",
       "228109  ░░░░░░░░░░░█▀▀░░█░░░░░░░░░░░▄▀▀▀▀░░░░░█▄▄░░░░░...  Formato inválido  \n",
       "229231                                          got VACed  Formato inválido  \n",
       "231501  DOTA 2.normal skill - 2ez for me>high skill - ...  Formato inválido  \n",
       "\n",
       "[9771 rows x 8 columns]"
      ]
     },
     "execution_count": 51,
     "metadata": {},
     "output_type": "execute_result"
    }
   ],
   "source": [
    "df_user_reviews[df_user_reviews['reviews_date'] == 'Formato inválido']"
   ]
  },
  {
   "cell_type": "markdown",
   "metadata": {},
   "source": [
    "Una vez realizada la transformación debemos, eliminamos al columna `'reviews_posted'`"
   ]
  },
  {
   "cell_type": "code",
   "execution_count": null,
   "metadata": {},
   "outputs": [
    {
     "data": {
      "text/plain": [
       "Index(['user_id', 'user_url', 'reviews_item_id', 'reviews_helpful',\n",
       "       'reviews_recommend', 'reviews_review', 'reviews_date'],\n",
       "      dtype='object')"
      ]
     },
     "execution_count": 52,
     "metadata": {},
     "output_type": "execute_result"
    }
   ],
   "source": [
    "df_user_reviews = df_user_reviews.drop('reviews_posted', axis=1)\n",
    "df_user_reviews.columns"
   ]
  },
  {
   "cell_type": "markdown",
   "metadata": {},
   "source": [
    "#### 3.2.5.4 Columnas 'reviews_review'"
   ]
  },
  {
   "cell_type": "markdown",
   "metadata": {},
   "source": [
    "Esta columna tiene un 5% de valores nulos, por lo que se eliminan."
   ]
  },
  {
   "cell_type": "code",
   "execution_count": null,
   "metadata": {},
   "outputs": [],
   "source": [
    "df_user_reviews = df_user_reviews.dropna(subset=['reviews_review'])"
   ]
  },
  {
   "cell_type": "markdown",
   "metadata": {},
   "source": [
    "Verificación de limpieza correcta de datos nulos"
   ]
  },
  {
   "cell_type": "code",
   "execution_count": null,
   "metadata": {},
   "outputs": [
    {
     "data": {
      "text/html": [
       "<div>\n",
       "<style scoped>\n",
       "    .dataframe tbody tr th:only-of-type {\n",
       "        vertical-align: middle;\n",
       "    }\n",
       "\n",
       "    .dataframe tbody tr th {\n",
       "        vertical-align: top;\n",
       "    }\n",
       "\n",
       "    .dataframe thead th {\n",
       "        text-align: right;\n",
       "    }\n",
       "</style>\n",
       "<table border=\"1\" class=\"dataframe\">\n",
       "  <thead>\n",
       "    <tr style=\"text-align: right;\">\n",
       "      <th></th>\n",
       "      <th>nombre_campo</th>\n",
       "      <th>tipo_datos</th>\n",
       "      <th>no_nulos_%</th>\n",
       "      <th>nulos_%</th>\n",
       "      <th>nulos</th>\n",
       "    </tr>\n",
       "  </thead>\n",
       "  <tbody>\n",
       "    <tr>\n",
       "      <th>0</th>\n",
       "      <td>user_id</td>\n",
       "      <td>[&lt;class 'str'&gt;]</td>\n",
       "      <td>100.0</td>\n",
       "      <td>0.0</td>\n",
       "      <td>0</td>\n",
       "    </tr>\n",
       "    <tr>\n",
       "      <th>1</th>\n",
       "      <td>user_url</td>\n",
       "      <td>[&lt;class 'str'&gt;]</td>\n",
       "      <td>100.0</td>\n",
       "      <td>0.0</td>\n",
       "      <td>0</td>\n",
       "    </tr>\n",
       "    <tr>\n",
       "      <th>2</th>\n",
       "      <td>reviews_item_id</td>\n",
       "      <td>[&lt;class 'str'&gt;]</td>\n",
       "      <td>100.0</td>\n",
       "      <td>0.0</td>\n",
       "      <td>0</td>\n",
       "    </tr>\n",
       "    <tr>\n",
       "      <th>3</th>\n",
       "      <td>reviews_helpful</td>\n",
       "      <td>[&lt;class 'str'&gt;]</td>\n",
       "      <td>100.0</td>\n",
       "      <td>0.0</td>\n",
       "      <td>0</td>\n",
       "    </tr>\n",
       "    <tr>\n",
       "      <th>4</th>\n",
       "      <td>reviews_recommend</td>\n",
       "      <td>[&lt;class 'bool'&gt;]</td>\n",
       "      <td>100.0</td>\n",
       "      <td>0.0</td>\n",
       "      <td>0</td>\n",
       "    </tr>\n",
       "    <tr>\n",
       "      <th>5</th>\n",
       "      <td>reviews_review</td>\n",
       "      <td>[&lt;class 'str'&gt;]</td>\n",
       "      <td>100.0</td>\n",
       "      <td>0.0</td>\n",
       "      <td>0</td>\n",
       "    </tr>\n",
       "    <tr>\n",
       "      <th>6</th>\n",
       "      <td>reviews_date</td>\n",
       "      <td>[&lt;class 'str'&gt;]</td>\n",
       "      <td>100.0</td>\n",
       "      <td>0.0</td>\n",
       "      <td>0</td>\n",
       "    </tr>\n",
       "  </tbody>\n",
       "</table>\n",
       "</div>"
      ],
      "text/plain": [
       "        nombre_campo        tipo_datos  no_nulos_%  nulos_%  nulos\n",
       "0            user_id   [<class 'str'>]       100.0      0.0      0\n",
       "1           user_url   [<class 'str'>]       100.0      0.0      0\n",
       "2    reviews_item_id   [<class 'str'>]       100.0      0.0      0\n",
       "3    reviews_helpful   [<class 'str'>]       100.0      0.0      0\n",
       "4  reviews_recommend  [<class 'bool'>]       100.0      0.0      0\n",
       "5     reviews_review   [<class 'str'>]       100.0      0.0      0\n",
       "6       reviews_date   [<class 'str'>]       100.0      0.0      0"
      ]
     },
     "execution_count": 54,
     "metadata": {},
     "output_type": "execute_result"
    }
   ],
   "source": [
    "FP.tabla_tipo_datos(df_user_reviews)"
   ]
  },
  {
   "cell_type": "markdown",
   "metadata": {},
   "source": [
    "**Se confirma la limpieza exitosa del dataset**"
   ]
  },
  {
   "cell_type": "markdown",
   "metadata": {},
   "source": [
    "### **<span style=\"color: #f7b538;\">**3.3.- Carga de datos**</span>**"
   ]
  },
  {
   "cell_type": "markdown",
   "metadata": {},
   "source": [
    "#### 3.3.1 Generación del archivo limpio"
   ]
  },
  {
   "cell_type": "markdown",
   "metadata": {},
   "source": [
    "Se guarda el dataframe transformado como `user_reviews_limpio`"
   ]
  },
  {
   "cell_type": "code",
   "execution_count": null,
   "metadata": {},
   "outputs": [
    {
     "name": "stderr",
     "output_type": "stream",
     "text": [
      "<>:1: SyntaxWarning: invalid escape sequence '\\d'\n",
      "<>:1: SyntaxWarning: invalid escape sequence '\\d'\n",
      "C:\\Users\\USUARIO\\AppData\\Local\\Temp\\ipykernel_21396\\3082933018.py:1: SyntaxWarning: invalid escape sequence '\\d'\n",
      "  nombre_archivo_limpio = 'Datasets\\df_user_reviews_limpio.csv'\n"
     ]
    },
    {
     "name": "stdout",
     "output_type": "stream",
     "text": [
      "Se guardó el archivo Datasets\\df_user_reviews_limpio.csv\n"
     ]
    }
   ],
   "source": [
    "nombre_archivo_limpio = 'Datasets\\df_user_reviews_limpio.csv'\n",
    "df_user_reviews.to_csv(nombre_archivo_limpio, index=False, encoding='utf-8')\n",
    "print(f'Se guardó el archivo {nombre_archivo_limpio}')"
   ]
  }
 ],
 "metadata": {
  "kernelspec": {
   "display_name": "Python 3",
   "language": "python",
   "name": "python3"
  },
  "language_info": {
   "codemirror_mode": {
    "name": "ipython",
    "version": 3
   },
   "file_extension": ".py",
   "mimetype": "text/x-python",
   "name": "python",
   "nbconvert_exporter": "python",
   "pygments_lexer": "ipython3",
   "version": "3.12.0"
  }
 },
 "nbformat": 4,
 "nbformat_minor": 2
}
