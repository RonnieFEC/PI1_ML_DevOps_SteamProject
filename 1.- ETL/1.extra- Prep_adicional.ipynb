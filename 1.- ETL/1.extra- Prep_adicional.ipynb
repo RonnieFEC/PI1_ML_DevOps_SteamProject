{
 "cells": [
  {
   "cell_type": "markdown",
   "metadata": {},
   "source": [
    " # Preparación de conjuntos del dataset **(Ajustes Pre-EDA)**\n",
    " -------------"
   ]
  },
  {
   "cell_type": "markdown",
   "metadata": {},
   "source": [
    "En esta jupyter notebook se preparan los conjuntos de datos necesarios para hacer las consultas en la API y el EDA."
   ]
  },
  {
   "cell_type": "markdown",
   "metadata": {},
   "source": [
    "-------------\n",
    "### Tabla de contenido\n",
    "\n",
    "- 1.- Introducción\n",
    "- 2.- Importación de las librerías y funciones personalizadas\n",
    "    - 2.1.- Librerías\n",
    "    - 2.2.- Funciones Personalizadas\n",
    "- 3.- Extracción del conjunto de datos\n",
    "\n",
    "- 4.- Análisis de sentimientos\n",
    "\n",
    "- 5.- Implementación de columnas adicionales\n",
    "    - 5.1.- Cantidad de dinero gastado por usuario\n",
    "    - 5.2.- Cantidad de items consumidos\n",
    "    - 5.3.- Playtime_forever por usuario\n",
    "    - 5.4.- Ranking de géneros por tiempo de juego\n",
    "    - 5.5.- Cantidad de items y contenido free por desarrollador\n",
    "    - 5.6.- Implementar 'release_anio' en df_reviews\n",
    "\n",
    "- 6.- Carga de los dataset\n",
    "    - 6.1.- Generación del archivos limpios y modificados en formato parquet\n",
    "-------------"
   ]
  },
  {
   "cell_type": "markdown",
   "metadata": {},
   "source": [
    "## **<span style=\"color: #d8572a;\">1.- Introducción</span>**"
   ]
  },
  {
   "cell_type": "markdown",
   "metadata": {},
   "source": [
    "**Este trabajo ETL tiene como objetivo procesar e integrar un conjunto de datos que contiene información sobre videojuegos de Steam. El conjunto de datos, titulado \"user_items\", consta de 88310 filas y 5 columnas, luego de un proceso de limpieza exhaustivo para eliminar filas con valores NaN. Los datos extraídos se transformarán y cargarán en un sistema de destino para su posterior análisis y utilización.**"
   ]
  },
  {
   "cell_type": "markdown",
   "metadata": {},
   "source": [
    "## **<span style=\"color: #d8572a;\">2.- Importación de las librerías y funciones personalizadas</span>**"
   ]
  },
  {
   "cell_type": "markdown",
   "metadata": {},
   "source": [
    "### **<span style=\"color: #f7b538;\">2.1.- Librerías</span>**"
   ]
  },
  {
   "cell_type": "code",
   "execution_count": 1,
   "metadata": {},
   "outputs": [],
   "source": [
    "import pandas as pd\n",
    "import pyarrow as pa\n",
    "import pyarrow.parquet as pq"
   ]
  },
  {
   "cell_type": "markdown",
   "metadata": {},
   "source": [
    "### **<span style=\"color: #f7b538;\">2.2.- Funciones Personalizadas</span>**"
   ]
  },
  {
   "cell_type": "code",
   "execution_count": 30,
   "metadata": {},
   "outputs": [
    {
     "ename": "ModuleNotFoundError",
     "evalue": "No module named 'FPersonaliz'",
     "output_type": "error",
     "traceback": [
      "\u001b[1;31m---------------------------------------------------------------------------\u001b[0m",
      "\u001b[1;31mModuleNotFoundError\u001b[0m                       Traceback (most recent call last)",
      "Cell \u001b[1;32mIn[30], line 1\u001b[0m\n\u001b[1;32m----> 1\u001b[0m \u001b[38;5;28;01mimport\u001b[39;00m \u001b[38;5;21;01mFPersonaliz\u001b[39;00m \u001b[38;5;28;01mas\u001b[39;00m \u001b[38;5;21;01mFP\u001b[39;00m\n",
      "\u001b[1;31mModuleNotFoundError\u001b[0m: No module named 'FPersonaliz'"
     ]
    }
   ],
   "source": [
    "import FPersonaliz as FP"
   ]
  },
  {
   "cell_type": "code",
   "execution_count": null,
   "metadata": {},
   "outputs": [],
   "source": []
  },
  {
   "cell_type": "markdown",
   "metadata": {},
   "source": [
    "## **<span style=\"color: #d8572a;\">3.- Extracción del conjunto de datos</span>**"
   ]
  },
  {
   "cell_type": "markdown",
   "metadata": {},
   "source": [
    "## **<span style=\"color: #d8572a;\">4.- Análisis de sentimientos</span>**"
   ]
  },
  {
   "cell_type": "markdown",
   "metadata": {},
   "source": [
    "## **<span style=\"color: #d8572a;\">5.- Implementación de columnas adicionales</span>**"
   ]
  },
  {
   "cell_type": "markdown",
   "metadata": {},
   "source": [
    "### **<span style=\"color: #f7b538;\">5.1.- Cantidad de dinero gastado por usuario</span>**"
   ]
  },
  {
   "cell_type": "markdown",
   "metadata": {},
   "source": [
    "### **<span style=\"color: #f7b538;\">5.2.- Cantidad de items consumidos</span>**"
   ]
  },
  {
   "cell_type": "markdown",
   "metadata": {},
   "source": [
    "### **<span style=\"color: #f7b538;\">5.3.- Playtime_forever por usuario</span>**"
   ]
  },
  {
   "cell_type": "markdown",
   "metadata": {},
   "source": [
    "### **<span style=\"color: #f7b538;\">5.4.- Ranking de géneros por tiempo de juego</span>**"
   ]
  },
  {
   "cell_type": "markdown",
   "metadata": {},
   "source": [
    "### **<span style=\"color: #f7b538;\">5.5.- Cantidad de items y contenido free por desarrollador</span>**"
   ]
  },
  {
   "cell_type": "markdown",
   "metadata": {},
   "source": [
    "### **<span style=\"color: #f7b538;\">5.6.- Implementar 'release_anio' en df_reviews</span>**"
   ]
  },
  {
   "cell_type": "markdown",
   "metadata": {},
   "source": [
    "## **<span style=\"color: #d8572a;\">6.- Carga de los dataset</span>**"
   ]
  },
  {
   "cell_type": "markdown",
   "metadata": {},
   "source": [
    "### **<span style=\"color: #f7b538;\">6.1.- Generación del archivos limpios y modificados en formato parquet</span>**"
   ]
  }
 ],
 "metadata": {
  "kernelspec": {
   "display_name": "Python 3",
   "language": "python",
   "name": "python3"
  },
  "language_info": {
   "codemirror_mode": {
    "name": "ipython",
    "version": 3
   },
   "file_extension": ".py",
   "mimetype": "text/x-python",
   "name": "python",
   "nbconvert_exporter": "python",
   "pygments_lexer": "ipython3",
   "version": "3.12.0"
  }
 },
 "nbformat": 4,
 "nbformat_minor": 2
}
